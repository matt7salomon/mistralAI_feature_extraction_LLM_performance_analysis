{
 "cells": [
  {
   "cell_type": "code",
   "execution_count": 112,
   "id": "7562ae85",
   "metadata": {},
   "outputs": [],
   "source": [
    "import os\n",
    "from mistralai import Mistral\n",
    "from dotenv import load_dotenv\n",
    "load_dotenv()\n",
    "import os"
   ]
  },
  {
   "cell_type": "code",
   "execution_count": 113,
   "id": "4450879d",
   "metadata": {},
   "outputs": [],
   "source": [
    "prompts = {\n",
    "    \"Johnson\": {\n",
    "        \"medical_notes\": \"A 60-year-old male patient, Mr. Johnson, presented with symptoms of increased thirst, frequent urination, fatigue, and unexplained weight loss. Upon evaluation, he was diagnosed with diabetes, confirmed by elevated blood sugar levels. Mr. Johnson's weight is 210 lbs. He has been prescribed Metformin to be taken twice daily with meals. It was noted during the consultation that the patient is a current smoker. \",\n",
    "        \"golden_answer\": {\n",
    "            \"age\": 60,\n",
    "            \"gender\": \"male\",\n",
    "            \"diagnosis\": \"diabetes\",\n",
    "            \"weight\": 210,\n",
    "            \"smoking\": \"yes\",\n",
    "        },\n",
    "    },\n",
    "    \"Smith\": {\n",
    "        \"medical_notes\": \"Mr. Smith, a 55-year-old male patient, presented with severe joint pain and stiffness in his knees and hands, along with swelling and limited range of motion. After a thorough examination and diagnostic tests, he was diagnosed with arthritis. It is important for Mr. Smith to maintain a healthy weight (currently at 150 lbs) and quit smoking, as these factors can exacerbate symptoms of arthritis and contribute to joint damage.\",\n",
    "        \"golden_answer\": {\n",
    "            \"age\": 55,\n",
    "            \"gender\": \"male\",\n",
    "            \"diagnosis\": \"arthritis\",\n",
    "            \"weight\": 150,\n",
    "            \"smoking\": \"yes\",\n",
    "        },\n",
    "    },\n",
    "}"
   ]
  },
  {
   "cell_type": "code",
   "execution_count": 114,
   "id": "4b8310cb",
   "metadata": {},
   "outputs": [],
   "source": [
    "def run_mistral(user_message, model=\"mistral-large-latest\"):\n",
    "    client = Mistral(api_key=os.getenv(\"MISTRAL_API_KEY\"))\n",
    "    messages = [{\"role\": \"user\", \"content\": user_message}]\n",
    "    chat_response = client.chat.complete(\n",
    "        model=model,\n",
    "        messages=messages,\n",
    "        response_format={\"type\": \"json_object\"},\n",
    "    )\n",
    "    return chat_response.choices[0].message.content\n",
    "\n",
    "\n",
    "# define prompt template\n",
    "prompt_template = \"\"\"\n",
    "Extract information from the following medical notes:\n",
    "{medical_notes}\n",
    "\n",
    "Return json format with the following JSON schema: \n",
    "\n",
    "{{\n",
    "        \"age\": {{\n",
    "            \"type\": \"integer\"\n",
    "        }},\n",
    "        \"gender\": {{\n",
    "            \"type\": \"string\",\n",
    "            \"enum\": [\"male\", \"female\", \"other\"]\n",
    "        }},\n",
    "        \"diagnosis\": {{\n",
    "            \"type\": \"string\",\n",
    "            \"enum\": [\"migraine\", \"diabetes\", \"arthritis\", \"acne\", \"common cold\"]\n",
    "        }},\n",
    "        \"weight\": {{\n",
    "            \"type\": \"integer\"\n",
    "        }},\n",
    "        \"smoking\": {{\n",
    "            \"type\": \"string\",\n",
    "            \"enum\": [\"yes\", \"no\"]\n",
    "        }},\n",
    "        \n",
    "}}\n",
    "\"\"\""
   ]
  },
  {
   "cell_type": "code",
   "execution_count": 115,
   "id": "99a5f4aa",
   "metadata": {},
   "outputs": [],
   "source": [
    "import json\n",
    "\n",
    "def compare_json_objects(obj1, obj2):\n",
    "    total_fields = 0\n",
    "    identical_fields = 0\n",
    "    common_keys = set(obj1.keys()) & set(obj2.keys())\n",
    "    for key in common_keys:\n",
    "        identical_fields += obj1[key] == obj2[key]\n",
    "    percentage_identical = (identical_fields / max(len(obj1.keys()), 1)) * 100\n",
    "    return percentage_identical"
   ]
  },
  {
   "cell_type": "code",
   "execution_count": 116,
   "id": "8eb2f033",
   "metadata": {},
   "outputs": [
    {
     "data": {
      "text/plain": [
       "100.0"
      ]
     },
     "execution_count": 116,
     "metadata": {},
     "output_type": "execute_result"
    }
   ],
   "source": [
    "accuracy_rates = []\n",
    "\n",
    "# for each test case\n",
    "for name in prompts:\n",
    "\n",
    "    # define user message\n",
    "    user_message = prompt_template.format(medical_notes=prompts[name][\"medical_notes\"])\n",
    "\n",
    "    # run LLM\n",
    "    response = json.loads(run_mistral(user_message))\n",
    "\n",
    "    # calculate accuracy rate for this test case\n",
    "    accuracy_rates.append(\n",
    "        compare_json_objects(response, prompts[name][\"golden_answer\"])\n",
    "    )\n",
    "\n",
    "# calculate accuracy rate across test cases\n",
    "sum(accuracy_rates) / len(accuracy_rates)"
   ]
  },
  {
   "cell_type": "markdown",
   "id": "18c587aa",
   "metadata": {},
   "source": [
    "## Another Mistral Use-case"
   ]
  },
  {
   "cell_type": "code",
   "execution_count": 12,
   "id": "bc752f2d",
   "metadata": {
    "_cell_guid": "b1076dfc-b9ad-4769-8c92-a6c4dae69d19",
    "_uuid": "8f2839f25d086af736a60e9eeb907d3b93b6e0e5"
   },
   "outputs": [
    {
     "name": "stdout",
     "output_type": "stream",
     "text": [
      "Requirement already satisfied: Pathlib in /Users/mattsalomon/miniconda3/lib/python3.10/site-packages (1.0.1)\n",
      "\u001b[33mWARNING: Ignoring invalid distribution -angchain-core (/Users/mattsalomon/miniconda3/envs/tensorflow/lib/python3.10/site-packages)\u001b[0m\u001b[33m\n",
      "\u001b[0m\u001b[33mWARNING: Ignoring invalid distribution -angchain-core (/Users/mattsalomon/miniconda3/envs/tensorflow/lib/python3.10/site-packages)\u001b[0m\u001b[33m\n",
      "\u001b[0mRequirement already satisfied: protobuf==3.20.0 in /Users/mattsalomon/miniconda3/envs/tensorflow/lib/python3.10/site-packages (3.20.0)\n",
      "\u001b[33mWARNING: Ignoring invalid distribution -angchain-core (/Users/mattsalomon/miniconda3/envs/tensorflow/lib/python3.10/site-packages)\u001b[0m\u001b[33m\n",
      "\u001b[0m\u001b[33mWARNING: Ignoring invalid distribution -angchain-core (/Users/mattsalomon/miniconda3/envs/tensorflow/lib/python3.10/site-packages)\u001b[0m\u001b[33m\n",
      "\u001b[0m\u001b[33mWARNING: Ignoring invalid distribution -angchain-core (/Users/mattsalomon/miniconda3/envs/tensorflow/lib/python3.10/site-packages)\u001b[0m\u001b[33m\n",
      "\u001b[0m\u001b[33mWARNING: Ignoring invalid distribution -angchain-core (/Users/mattsalomon/miniconda3/envs/tensorflow/lib/python3.10/site-packages)\u001b[0m\u001b[33m\n",
      "\u001b[0mNote: you may need to restart the kernel to use updated packages.\n"
     ]
    }
   ],
   "source": [
    "#!pip -q install langchain\n",
    "!pip -q install huggingface_hub\n",
    "!pip -q install  git+https://github.com/huggingface/transformers # need to install from github\n",
    "!pip -q install kor\n",
    "#!pip install pandas --upgrade\n",
    "!pip install Pathlib\n",
    "%pip install protobuf==3.20.0"
   ]
  },
  {
   "cell_type": "code",
   "execution_count": 13,
   "id": "d26f0046",
   "metadata": {
    "execution": {
     "iopub.execute_input": "2023-10-27T07:15:22.477327Z",
     "iopub.status.busy": "2023-10-27T07:15:22.477036Z",
     "iopub.status.idle": "2023-10-27T07:15:33.787893Z",
     "shell.execute_reply": "2023-10-27T07:15:33.786833Z",
     "shell.execute_reply.started": "2023-10-27T07:15:22.477300Z"
    }
   },
   "outputs": [
    {
     "name": "stdout",
     "output_type": "stream",
     "text": [
      "Name: langchain\r\n",
      "Version: 0.2.15\r\n",
      "Summary: Building applications with LLMs through composability\r\n",
      "Home-page: https://github.com/langchain-ai/langchain\r\n",
      "Author: \r\n",
      "Author-email: \r\n",
      "License: MIT\r\n",
      "Location: /Users/mattsalomon/miniconda3/lib/python3.10/site-packages\r\n",
      "Requires: aiohttp, async-timeout, langchain-core, langchain-text-splitters, langsmith, numpy, pydantic, PyYAML, requests, SQLAlchemy, tenacity\r\n",
      "Required-by: langchain-community\r\n"
     ]
    }
   ],
   "source": [
    "!pip show langchain"
   ]
  },
  {
   "cell_type": "code",
   "execution_count": 14,
   "id": "2a737e8c",
   "metadata": {
    "execution": {
     "iopub.execute_input": "2023-10-27T07:15:33.790245Z",
     "iopub.status.busy": "2023-10-27T07:15:33.789849Z",
     "iopub.status.idle": "2023-10-27T07:15:45.065086Z",
     "shell.execute_reply": "2023-10-27T07:15:45.063895Z",
     "shell.execute_reply.started": "2023-10-27T07:15:33.790210Z"
    }
   },
   "outputs": [
    {
     "name": "stdout",
     "output_type": "stream",
     "text": [
      "Name: kor\r\n",
      "Version: 2.0.0\r\n",
      "Summary: Extract information with LLMs from text\r\n",
      "Home-page: https://www.github.com/eyurtsev/kor\r\n",
      "Author: Eugene Yurtsev\r\n",
      "Author-email: eyurtsev@gmail.com\r\n",
      "License: MIT\r\n",
      "Location: /Users/mattsalomon/miniconda3/lib/python3.10/site-packages\r\n",
      "Requires: langchain-core, pandas, pydantic\r\n",
      "Required-by: \r\n"
     ]
    }
   ],
   "source": [
    "!pip show kor"
   ]
  },
  {
   "cell_type": "code",
   "execution_count": 15,
   "id": "3dfc5d75",
   "metadata": {},
   "outputs": [
    {
     "name": "stdout",
     "output_type": "stream",
     "text": [
      "Name: protobuf\r\n",
      "Version: 3.20.3\r\n",
      "Summary: Protocol Buffers\r\n",
      "Home-page: https://developers.google.com/protocol-buffers/\r\n",
      "Author: \r\n",
      "Author-email: \r\n",
      "License: BSD-3-Clause\r\n",
      "Location: /Users/mattsalomon/miniconda3/lib/python3.10/site-packages\r\n",
      "Requires: \r\n",
      "Required-by: googleapis-common-protos, onnxruntime, opentelemetry-proto, tensorboard, tensorflow, tensorflow-datasets, tensorflow-metadata\r\n"
     ]
    }
   ],
   "source": [
    "!pip show protobuf"
   ]
  },
  {
   "cell_type": "code",
   "execution_count": 1,
   "id": "05b6be90",
   "metadata": {
    "execution": {
     "iopub.execute_input": "2023-10-27T07:15:45.068810Z",
     "iopub.status.busy": "2023-10-27T07:15:45.068191Z",
     "iopub.status.idle": "2023-10-27T07:16:01.688143Z",
     "shell.execute_reply": "2023-10-27T07:16:01.687035Z",
     "shell.execute_reply.started": "2023-10-27T07:15:45.068771Z"
    }
   },
   "outputs": [],
   "source": [
    "import warnings\n",
    "warnings.filterwarnings(\"ignore\")\n",
    "\n",
    "import torch\n",
    "from dotenv import load_dotenv\n",
    "import os\n",
    "import textwrap\n",
    "import enum\n",
    "import re\n",
    "import numpy as np\n",
    "import pandas as pd\n",
    "from pathlib import Path\n",
    "from tqdm import tqdm\n",
    "\n",
    "from operator import itemgetter\n",
    "from typing import List, Union, Optional\n",
    "\n",
    "from transformers import AutoTokenizer, AutoModelForCausalLM, pipeline\n",
    "from transformers import GenerationConfig\n",
    "\n",
    "import langchain\n",
    "from langchain.schema.output_parser import StrOutputParser\n",
    "from langchain_core.prompts.prompt import PromptTemplate\n",
    "from langchain_core.prompts.chat import ChatPromptTemplate,SystemMessagePromptTemplate,AIMessagePromptTemplate,HumanMessagePromptTemplate\n",
    "from langchain.prompts import StringPromptTemplate\n",
    "\n",
    "from langchain import LLMChain\n",
    "from langchain.llms import HuggingFaceHub, HuggingFacePipeline\n",
    "from langchain.schema.runnable import ConfigurableField\n",
    "\n",
    "from kor.extraction import create_extraction_chain\n",
    "from kor.nodes import Object, Text, Number\n",
    "from pydantic import BaseModel, Field, validator\n",
    "from kor import extract_from_documents, from_pydantic\n",
    "\n",
    "from sklearn.metrics import accuracy_score, f1_score, precision_score, recall_score\n",
    "load_dotenv()\n",
    "pd.set_option('display.max_colwidth', 500)\n",
    "os.environ['HUGGINGFACEHUB_API_TOKEN'] = os.environ['hf_token']"
   ]
  },
  {
   "cell_type": "code",
   "execution_count": 2,
   "id": "72c5675f",
   "metadata": {
    "execution": {
     "iopub.execute_input": "2023-10-27T07:16:01.690093Z",
     "iopub.status.busy": "2023-10-27T07:16:01.689367Z",
     "iopub.status.idle": "2023-10-27T07:16:01.722300Z",
     "shell.execute_reply": "2023-10-27T07:16:01.721356Z",
     "shell.execute_reply.started": "2023-10-27T07:16:01.690047Z"
    }
   },
   "outputs": [
    {
     "name": "stdout",
     "output_type": "stream",
     "text": [
      "cpu\n"
     ]
    }
   ],
   "source": [
    "device = 'cuda' if torch.cuda.is_available() else 'cpu'\n",
    "print(device)"
   ]
  },
  {
   "cell_type": "markdown",
   "id": "4186f78e",
   "metadata": {},
   "source": [
    "## Load Dataset\n",
    "**Restaurant Reviews with following aspects**\n",
    "\n",
    "- Ambience\n",
    "- Anecdotes\n",
    "- Food\n",
    "- Price\n",
    "- Staff\n",
    "- Miscellaneous"
   ]
  },
  {
   "cell_type": "code",
   "execution_count": 3,
   "id": "e2c7569b",
   "metadata": {
    "execution": {
     "iopub.execute_input": "2023-10-27T07:16:01.724285Z",
     "iopub.status.busy": "2023-10-27T07:16:01.723686Z",
     "iopub.status.idle": "2023-10-27T07:16:01.737812Z",
     "shell.execute_reply": "2023-10-27T07:16:01.737037Z",
     "shell.execute_reply.started": "2023-10-27T07:16:01.724249Z"
    }
   },
   "outputs": [],
   "source": [
    "review_domain = 'restaurant'\n",
    "\n",
    "input_dir = Path(f'/Users/mattsalomon/Downloads/datasets/{review_domain}')\n",
    "data_dir = Path('/Users/mattsalomon/Downloads/datasets/')"
   ]
  },
  {
   "cell_type": "code",
   "execution_count": 4,
   "id": "98a5c5ad",
   "metadata": {
    "execution": {
     "iopub.execute_input": "2023-10-27T07:41:26.744006Z",
     "iopub.status.busy": "2023-10-27T07:41:26.743107Z",
     "iopub.status.idle": "2023-10-27T07:41:26.750111Z",
     "shell.execute_reply": "2023-10-27T07:41:26.749053Z",
     "shell.execute_reply.started": "2023-10-27T07:41:26.743973Z"
    }
   },
   "outputs": [],
   "source": [
    "def load_dataset(filename):\n",
    "    f = open(filename, 'r', encoding='utf-8')\n",
    "    all_reviews = f.readlines()\n",
    "    print('Total Reviews: ', len(all_reviews))\n",
    "    f.close()\n",
    "\n",
    "    sentences = []\n",
    "    for i,review in enumerate(all_reviews):\n",
    "        sentences.append(review.strip('\\n'))\n",
    "\n",
    "    col = 'labels' if 'test_label' in str(filename) else 'text_org'\n",
    "\n",
    "    df = pd.DataFrame({col:sentences})\n",
    "    return df"
   ]
  },
  {
   "cell_type": "code",
   "execution_count": 5,
   "id": "90177f5c",
   "metadata": {
    "execution": {
     "iopub.execute_input": "2023-10-27T07:55:57.371312Z",
     "iopub.status.busy": "2023-10-27T07:55:57.370465Z",
     "iopub.status.idle": "2023-10-27T07:55:57.449436Z",
     "shell.execute_reply": "2023-10-27T07:55:57.448402Z",
     "shell.execute_reply.started": "2023-10-27T07:55:57.371279Z"
    }
   },
   "outputs": [
    {
     "name": "stdout",
     "output_type": "stream",
     "text": [
      "Total Reviews:  3328\n",
      "(3328, 1)\n",
      "['Miscellaneous', 'Ambience', 'Anecdotes', 'Price', 'Staff', 'Food', 'Positive', 'Neutral']\n",
      "['Ambience', 'Anecdotes', 'Food', 'Miscellaneous', 'Price', 'Staff']\n",
      "(3315, 1)\n",
      "(3315, 7)\n"
     ]
    },
    {
     "data": {
      "text/html": [
       "<div>\n",
       "<style scoped>\n",
       "    .dataframe tbody tr th:only-of-type {\n",
       "        vertical-align: middle;\n",
       "    }\n",
       "\n",
       "    .dataframe tbody tr th {\n",
       "        vertical-align: top;\n",
       "    }\n",
       "\n",
       "    .dataframe thead th {\n",
       "        text-align: right;\n",
       "    }\n",
       "</style>\n",
       "<table border=\"1\" class=\"dataframe\">\n",
       "  <thead>\n",
       "    <tr style=\"text-align: right;\">\n",
       "      <th></th>\n",
       "      <th>labels</th>\n",
       "      <th>Ambience</th>\n",
       "      <th>Anecdotes</th>\n",
       "      <th>Food</th>\n",
       "      <th>Miscellaneous</th>\n",
       "      <th>Price</th>\n",
       "      <th>Staff</th>\n",
       "    </tr>\n",
       "  </thead>\n",
       "  <tbody>\n",
       "    <tr>\n",
       "      <th>0</th>\n",
       "      <td>Food Ambience</td>\n",
       "      <td>1</td>\n",
       "      <td>0</td>\n",
       "      <td>1</td>\n",
       "      <td>0</td>\n",
       "      <td>0</td>\n",
       "      <td>0</td>\n",
       "    </tr>\n",
       "    <tr>\n",
       "      <th>1</th>\n",
       "      <td>Staff</td>\n",
       "      <td>0</td>\n",
       "      <td>0</td>\n",
       "      <td>0</td>\n",
       "      <td>0</td>\n",
       "      <td>0</td>\n",
       "      <td>1</td>\n",
       "    </tr>\n",
       "    <tr>\n",
       "      <th>2</th>\n",
       "      <td>Ambience</td>\n",
       "      <td>1</td>\n",
       "      <td>0</td>\n",
       "      <td>0</td>\n",
       "      <td>0</td>\n",
       "      <td>0</td>\n",
       "      <td>0</td>\n",
       "    </tr>\n",
       "    <tr>\n",
       "      <th>3</th>\n",
       "      <td>Miscellaneous</td>\n",
       "      <td>0</td>\n",
       "      <td>0</td>\n",
       "      <td>0</td>\n",
       "      <td>1</td>\n",
       "      <td>0</td>\n",
       "      <td>0</td>\n",
       "    </tr>\n",
       "    <tr>\n",
       "      <th>4</th>\n",
       "      <td>Miscellaneous</td>\n",
       "      <td>0</td>\n",
       "      <td>0</td>\n",
       "      <td>0</td>\n",
       "      <td>1</td>\n",
       "      <td>0</td>\n",
       "      <td>0</td>\n",
       "    </tr>\n",
       "  </tbody>\n",
       "</table>\n",
       "</div>"
      ],
      "text/plain": [
       "          labels  Ambience  Anecdotes  Food  Miscellaneous  Price  Staff\n",
       "0  Food Ambience         1          0     1              0      0      0\n",
       "1          Staff         0          0     0              0      0      1\n",
       "2       Ambience         1          0     0              0      0      0\n",
       "3  Miscellaneous         0          0     0              1      0      0\n",
       "4  Miscellaneous         0          0     0              1      0      0"
      ]
     },
     "execution_count": 5,
     "metadata": {},
     "output_type": "execute_result"
    }
   ],
   "source": [
    "df_label = load_dataset(input_dir/'test_label.txt')\n",
    "print(df_label.shape)\n",
    "\n",
    "all_labels = list(set(df_label['labels'].str.split(' ').sum()))\n",
    "print(all_labels)\n",
    "drop_labels = ['Positive', 'Neutral']\n",
    "all_labels = sorted([label for label in all_labels if label not in drop_labels])\n",
    "\n",
    "drop_index = pd.Series(False, index=df_label.index)\n",
    "for label in drop_labels:\n",
    "    drop_index = drop_index | df_label['labels'].str.contains(label)\n",
    "    \n",
    "print(all_labels)\n",
    "\n",
    "df_label = df_label[~drop_index].copy()\n",
    "print(df_label.shape)\n",
    "\n",
    "for label in all_labels:\n",
    "    df_label[label] = np.where(df_label['labels'].str.contains(label), 1, 0)\n",
    "print(df_label.shape)\n",
    "\n",
    "df_label.head()"
   ]
  },
  {
   "cell_type": "code",
   "execution_count": 6,
   "id": "7c14a07f",
   "metadata": {
    "execution": {
     "iopub.execute_input": "2023-10-27T07:56:31.680350Z",
     "iopub.status.busy": "2023-10-27T07:56:31.679304Z",
     "iopub.status.idle": "2023-10-27T07:56:31.705594Z",
     "shell.execute_reply": "2023-10-27T07:56:31.704434Z",
     "shell.execute_reply.started": "2023-10-27T07:56:31.680307Z"
    }
   },
   "outputs": [
    {
     "name": "stdout",
     "output_type": "stream",
     "text": [
      "Total Reviews:  3328\n",
      "(3328, 1)\n",
      "(3315, 1)\n"
     ]
    },
    {
     "data": {
      "text/html": [
       "<div>\n",
       "<style scoped>\n",
       "    .dataframe tbody tr th:only-of-type {\n",
       "        vertical-align: middle;\n",
       "    }\n",
       "\n",
       "    .dataframe tbody tr th {\n",
       "        vertical-align: top;\n",
       "    }\n",
       "\n",
       "    .dataframe thead th {\n",
       "        text-align: right;\n",
       "    }\n",
       "</style>\n",
       "<table border=\"1\" class=\"dataframe\">\n",
       "  <thead>\n",
       "    <tr style=\"text-align: right;\">\n",
       "      <th></th>\n",
       "      <th>text_org</th>\n",
       "      <th>labels</th>\n",
       "      <th>Ambience</th>\n",
       "      <th>Anecdotes</th>\n",
       "      <th>Food</th>\n",
       "      <th>Miscellaneous</th>\n",
       "      <th>Price</th>\n",
       "      <th>Staff</th>\n",
       "    </tr>\n",
       "  </thead>\n",
       "  <tbody>\n",
       "    <tr>\n",
       "      <th>0</th>\n",
       "      <td>Always a fun place ... the food is deeelish !</td>\n",
       "      <td>Food Ambience</td>\n",
       "      <td>1</td>\n",
       "      <td>0</td>\n",
       "      <td>1</td>\n",
       "      <td>0</td>\n",
       "      <td>0</td>\n",
       "      <td>0</td>\n",
       "    </tr>\n",
       "    <tr>\n",
       "      <th>1</th>\n",
       "      <td>The staff is n't the friendliest or most competent , and I am stickler for service , but everything else about this place makes up for it .</td>\n",
       "      <td>Staff</td>\n",
       "      <td>0</td>\n",
       "      <td>0</td>\n",
       "      <td>0</td>\n",
       "      <td>0</td>\n",
       "      <td>0</td>\n",
       "      <td>1</td>\n",
       "    </tr>\n",
       "    <tr>\n",
       "      <th>2</th>\n",
       "      <td>Great for groups , great for a date , great for early brunch or a nightcap .</td>\n",
       "      <td>Ambience</td>\n",
       "      <td>1</td>\n",
       "      <td>0</td>\n",
       "      <td>0</td>\n",
       "      <td>0</td>\n",
       "      <td>0</td>\n",
       "      <td>0</td>\n",
       "    </tr>\n",
       "    <tr>\n",
       "      <th>3</th>\n",
       "      <td>Another great place to take out-of-towners !</td>\n",
       "      <td>Miscellaneous</td>\n",
       "      <td>0</td>\n",
       "      <td>0</td>\n",
       "      <td>0</td>\n",
       "      <td>1</td>\n",
       "      <td>0</td>\n",
       "      <td>0</td>\n",
       "    </tr>\n",
       "    <tr>\n",
       "      <th>4</th>\n",
       "      <td>: )</td>\n",
       "      <td>Miscellaneous</td>\n",
       "      <td>0</td>\n",
       "      <td>0</td>\n",
       "      <td>0</td>\n",
       "      <td>1</td>\n",
       "      <td>0</td>\n",
       "      <td>0</td>\n",
       "    </tr>\n",
       "  </tbody>\n",
       "</table>\n",
       "</div>"
      ],
      "text/plain": [
       "                                                                                                                                        text_org  \\\n",
       "0                                                                                                 Always a fun place ... the food is deeelish !    \n",
       "1   The staff is n't the friendliest or most competent , and I am stickler for service , but everything else about this place makes up for it .    \n",
       "2                                                                  Great for groups , great for a date , great for early brunch or a nightcap .    \n",
       "3                                                                                                  Another great place to take out-of-towners !    \n",
       "4                                                                                                                                           : )    \n",
       "\n",
       "          labels  Ambience  Anecdotes  Food  Miscellaneous  Price  Staff  \n",
       "0  Food Ambience         1          0     1              0      0      0  \n",
       "1          Staff         0          0     0              0      0      1  \n",
       "2       Ambience         1          0     0              0      0      0  \n",
       "3  Miscellaneous         0          0     0              1      0      0  \n",
       "4  Miscellaneous         0          0     0              1      0      0  "
      ]
     },
     "execution_count": 6,
     "metadata": {},
     "output_type": "execute_result"
    }
   ],
   "source": [
    "df = load_dataset(input_dir/'test.txt')\n",
    "print(df.shape)\n",
    "\n",
    "df = df[~drop_index].copy()\n",
    "print(df.shape)\n",
    "\n",
    "df = pd.concat([df, df_label], axis=1)\n",
    "\n",
    "df.head()"
   ]
  },
  {
   "cell_type": "code",
   "execution_count": 7,
   "id": "a7211ddc",
   "metadata": {
    "execution": {
     "iopub.execute_input": "2023-10-27T12:21:57.973950Z",
     "iopub.status.busy": "2023-10-27T12:21:57.973576Z",
     "iopub.status.idle": "2023-10-27T12:21:57.983327Z",
     "shell.execute_reply": "2023-10-27T12:21:57.982344Z",
     "shell.execute_reply.started": "2023-10-27T12:21:57.973919Z"
    }
   },
   "outputs": [
    {
     "data": {
      "text/plain": [
       "Ambience         0.113424\n",
       "Anecdotes        0.129412\n",
       "Food             0.370136\n",
       "Miscellaneous    0.276621\n",
       "Price            0.089894\n",
       "Staff            0.166817\n",
       "dtype: float64"
      ]
     },
     "execution_count": 7,
     "metadata": {},
     "output_type": "execute_result"
    }
   ],
   "source": [
    "df[all_labels].mean()"
   ]
  },
  {
   "cell_type": "markdown",
   "id": "adb4ada6",
   "metadata": {},
   "source": [
    "## Setup LLM: Mistral 7B"
   ]
  },
  {
   "cell_type": "code",
   "execution_count": 8,
   "id": "b8e65d10",
   "metadata": {},
   "outputs": [],
   "source": [
    "# !pip install transformers==4.20\n",
    "# %pip install sentencepiece"
   ]
  },
  {
   "cell_type": "code",
   "execution_count": 9,
   "id": "47567b54",
   "metadata": {
    "execution": {
     "iopub.execute_input": "2023-10-27T07:57:03.986782Z",
     "iopub.status.busy": "2023-10-27T07:57:03.986409Z",
     "iopub.status.idle": "2023-10-27T08:00:34.461184Z",
     "shell.execute_reply": "2023-10-27T08:00:34.460289Z",
     "shell.execute_reply.started": "2023-10-27T07:57:03.986751Z"
    }
   },
   "outputs": [
    {
     "data": {
      "application/vnd.jupyter.widget-view+json": {
       "model_id": "3a8622cacd514afc909930aff671fd0e",
       "version_major": 2,
       "version_minor": 0
      },
      "text/plain": [
       "Loading checkpoint shards:   0%|          | 0/2 [00:00<?, ?it/s]"
      ]
     },
     "metadata": {},
     "output_type": "display_data"
    },
    {
     "name": "stderr",
     "output_type": "stream",
     "text": [
      "Special tokens have been added in the vocabulary, make sure the associated word embeddings are fine-tuned or trained.\n",
      "Special tokens have been added in the vocabulary, make sure the associated word embeddings are fine-tuned or trained.\n"
     ]
    }
   ],
   "source": [
    "# repo_id = \"Open-Orca/Mistral-7B-OpenOrca\"\n",
    "\n",
    "# model = AutoModelForCausalLM.from_pretrained(repo_id, torch_dtype=\"auto\")\n",
    "# tokenizer = AutoTokenizer.from_pretrained(repo_id, torch_dtype=\"auto\")"
   ]
  },
  {
   "cell_type": "code",
   "execution_count": 10,
   "id": "625a31b4",
   "metadata": {
    "execution": {
     "iopub.execute_input": "2023-10-27T08:30:24.280917Z",
     "iopub.status.busy": "2023-10-27T08:30:24.280194Z",
     "iopub.status.idle": "2023-10-27T08:30:24.293282Z",
     "shell.execute_reply": "2023-10-27T08:30:24.292246Z",
     "shell.execute_reply.started": "2023-10-27T08:30:24.280881Z"
    }
   },
   "outputs": [],
   "source": [
    "# pipe = pipeline(\n",
    "#     \"text-generation\",\n",
    "#     model=model, \n",
    "#     tokenizer=tokenizer, \n",
    "#     max_new_tokens = 50,\n",
    "#     device=device,\n",
    "#     pad_token_id=tokenizer.eos_token_id,\n",
    "#     temperature=0,\n",
    "# )\n",
    "\n",
    "# llm = HuggingFacePipeline(pipeline=pipe)"
   ]
  },
  {
   "cell_type": "code",
   "execution_count": 11,
   "id": "79f9e368",
   "metadata": {},
   "outputs": [
    {
     "data": {
      "text/plain": [
       "HuggingFacePipeline(pipeline=<transformers.pipelines.text_generation.TextGenerationPipeline object at 0x36d7dff40>)"
      ]
     },
     "execution_count": 11,
     "metadata": {},
     "output_type": "execute_result"
    }
   ],
   "source": [
    "llm"
   ]
  },
  {
   "cell_type": "code",
   "execution_count": 14,
   "id": "a9c36e1d",
   "metadata": {},
   "outputs": [],
   "source": [
    "openai_api_key=os.environ['OPENAI_API_KEY']"
   ]
  },
  {
   "cell_type": "code",
   "execution_count": 16,
   "id": "688c682d",
   "metadata": {},
   "outputs": [],
   "source": [
    "from langchain_openai import ChatOpenAI\n",
    "llm = ChatOpenAI(\n",
    "    model_name=\"gpt-3.5-turbo\",\n",
    "    temperature=0,\n",
    "    max_tokens=2000,\n",
    "    openai_api_key=openai_api_key\n",
    ")"
   ]
  },
  {
   "cell_type": "markdown",
   "id": "03326b2c",
   "metadata": {},
   "source": [
    "## Setup Aspect Extractor"
   ]
  },
  {
   "cell_type": "code",
   "execution_count": 17,
   "id": "beb3fa9d",
   "metadata": {
    "execution": {
     "iopub.execute_input": "2023-10-27T08:30:28.535279Z",
     "iopub.status.busy": "2023-10-27T08:30:28.534949Z",
     "iopub.status.idle": "2023-10-27T08:30:28.544042Z",
     "shell.execute_reply": "2023-10-27T08:30:28.542973Z",
     "shell.execute_reply.started": "2023-10-27T08:30:28.535254Z"
    }
   },
   "outputs": [],
   "source": [
    "class Aspects(enum.Enum):\n",
    "    staff = \"Staff\"\n",
    "    ambience = \"Ambience\"\n",
    "    anecdotes = \"Anecdotes\"\n",
    "    food = \"Food\"\n",
    "    price = 'Price'\n",
    "    miscellaneous = 'Miscellaneous'\n",
    "    \n",
    "class ReviewABSA(BaseModel):\n",
    "    aspect: List[Aspects] = Field(\n",
    "        description=f\"The key features that customers are talking about in their {review_domain} reviews.\",\n",
    "        examples=[\n",
    "            (\"The Singapore Mai Fun had NO curry flavor whatsoever.\", \"Food\"),\n",
    "            (\"Go for it !\", \"Miscellaneous\"),\n",
    "            (\"While the staff at this little bistro is very friendly , I have never experienced more incompetency.\", \"Staff\"),\n",
    "            (\"Went on a double date with friend and his girlfriend for a few drinks and appetizers .\", \"Anecdotes\"),\n",
    "            (\"When you enter , you feel like you have entered your mom 's kitchen .\", \"Ambience\"),\n",
    "            (\"Pricey , but worth a try , at least once .\", \"Price\")\n",
    "        ],\n",
    "        many=True,\n",
    "    )"
   ]
  },
  {
   "cell_type": "code",
   "execution_count": 18,
   "id": "909027b8",
   "metadata": {
    "execution": {
     "iopub.execute_input": "2023-10-27T08:30:29.925951Z",
     "iopub.status.busy": "2023-10-27T08:30:29.925295Z",
     "iopub.status.idle": "2023-10-27T08:30:29.930859Z",
     "shell.execute_reply": "2023-10-27T08:30:29.929936Z",
     "shell.execute_reply.started": "2023-10-27T08:30:29.925918Z"
    }
   },
   "outputs": [],
   "source": [
    "instruction_template = PromptTemplate(\n",
    "    input_variables=[\"format_instructions\", \"type_description\"],\n",
    "    template=(\n",
    "        \"<|im_start|>system\\nYour goal is to extract structured information from the user's input that matches the form described below. When extracting information please make sure it matches the type information exactly. Do not add any attributes that do not appear in the schema shown below.\\n\\n\"\n",
    "        \"{type_description}\\n<|im_end|>\\n<|im_start|>user\\n{format_instructions}\\n\"\n",
    "    ),\n",
    ")"
   ]
  },
  {
   "cell_type": "code",
   "execution_count": 19,
   "id": "f3ff8bc5",
   "metadata": {
    "execution": {
     "iopub.execute_input": "2023-10-27T08:30:30.185550Z",
     "iopub.status.busy": "2023-10-27T08:30:30.184709Z",
     "iopub.status.idle": "2023-10-27T08:30:30.191030Z",
     "shell.execute_reply": "2023-10-27T08:30:30.190072Z",
     "shell.execute_reply.started": "2023-10-27T08:30:30.185515Z"
    }
   },
   "outputs": [],
   "source": [
    "#from langchain.chains import create_extraction_chain\n",
    "schema, validator = from_pydantic(ReviewABSA)   \n",
    "chain = create_extraction_chain(\n",
    "    llm, schema, validator=validator, \n",
    "    encoder_or_encoder_class=\"json\",\n",
    "    instruction_template=instruction_template\n",
    ")"
   ]
  },
  {
   "cell_type": "code",
   "execution_count": 20,
   "id": "d759669d",
   "metadata": {},
   "outputs": [
    {
     "name": "stdout",
     "output_type": "stream",
     "text": [
      "<|im_start|>system\n",
      "Your goal is to extract structured information from the user's input that matches the form described below. When extracting information please make sure it matches the type information exactly. Do not add any attributes that do not appear in the schema shown below.\n",
      "\n",
      "```TypeScript\n",
      "\n",
      "reviewabsa: { // \n",
      " aspect: Array<\"Staff\" | \"Ambience\" | \"Anecdotes\" | \"Food\" | \"Price\" | \"Miscellaneous\"> // The key features that customers are talking about in their restaurant reviews.\n",
      "}\n",
      "```\n",
      "\n",
      "<|im_end|>\n",
      "<|im_start|>user\n",
      "Please output the extracted information in JSON format. Do not output anything except for the extracted information. Do not add any clarifying information. Do not add any fields that are not in the schema. If the text contains attributes that do not appear in the schema, please ignore them. All output must be in JSON format and follow the schema specified above. Wrap the JSON in <json> tags.\n",
      "\n",
      "\n",
      "Input: The Singapore Mai Fun had NO curry flavor whatsoever.\n",
      "Output: <json>{\"reviewabsa\": {\"aspect\": [\"Food\"]}}</json>\n",
      "Input: Go for it !\n",
      "Output: <json>{\"reviewabsa\": {\"aspect\": [\"Miscellaneous\"]}}</json>\n",
      "Input: While the staff at this little bistro is very friendly , I have never experienced more incompetency.\n",
      "Output: <json>{\"reviewabsa\": {\"aspect\": [\"Staff\"]}}</json>\n",
      "Input: Went on a double date with friend and his girlfriend for a few drinks and appetizers .\n",
      "Output: <json>{\"reviewabsa\": {\"aspect\": [\"Anecdotes\"]}}</json>\n",
      "Input: When you enter , you feel like you have entered your mom 's kitchen .\n",
      "Output: <json>{\"reviewabsa\": {\"aspect\": [\"Ambience\"]}}</json>\n",
      "Input: Pricey , but worth a try , at least once .\n",
      "Output: <json>{\"reviewabsa\": {\"aspect\": [\"Price\"]}}</json>\n",
      "Input: [user input]\n",
      "Output:\n"
     ]
    }
   ],
   "source": [
    "print(chain.get_prompts()[0].format_prompt(text=\"[user input]\").to_string())"
   ]
  },
  {
   "cell_type": "code",
   "execution_count": 21,
   "id": "7797afb3",
   "metadata": {
    "execution": {
     "iopub.execute_input": "2023-10-27T08:30:31.294094Z",
     "iopub.status.busy": "2023-10-27T08:30:31.293411Z",
     "iopub.status.idle": "2023-10-27T08:30:31.299690Z",
     "shell.execute_reply": "2023-10-27T08:30:31.298662Z",
     "shell.execute_reply.started": "2023-10-27T08:30:31.294063Z"
    }
   },
   "outputs": [],
   "source": [
    "#print(chain.prompt.format_prompt(text=\"[user input]\").to_string())"
   ]
  },
  {
   "cell_type": "markdown",
   "id": "0c96ef83",
   "metadata": {},
   "source": [
    "## Aspect Extraction"
   ]
  },
  {
   "cell_type": "code",
   "execution_count": 29,
   "id": "31016060",
   "metadata": {},
   "outputs": [],
   "source": [
    "sample = 100\n",
    "all_labels_sampled=all_labels[0:100]\n",
    "reviews_sampled=reviews[0:100]\n",
    "aspects_sampled=aspects[0:100]"
   ]
  },
  {
   "cell_type": "code",
   "execution_count": 30,
   "id": "8308b08b",
   "metadata": {
    "execution": {
     "iopub.execute_input": "2023-10-27T08:30:33.994838Z",
     "iopub.status.busy": "2023-10-27T08:30:33.994408Z",
     "iopub.status.idle": "2023-10-27T12:00:03.619115Z",
     "shell.execute_reply": "2023-10-27T12:00:03.618132Z",
     "shell.execute_reply.started": "2023-10-27T08:30:33.994808Z"
    }
   },
   "outputs": [
    {
     "name": "stderr",
     "output_type": "stream",
     "text": [
      "100%|█████████████████████████████████████████| 100/100 [01:08<00:00,  1.45it/s]"
     ]
    },
    {
     "name": "stdout",
     "output_type": "stream",
     "text": [
      "CPU times: user 4.43 s, sys: 256 ms, total: 4.68 s\n",
      "Wall time: 1min 8s\n"
     ]
    },
    {
     "name": "stderr",
     "output_type": "stream",
     "text": [
      "\n"
     ]
    },
    {
     "data": {
      "text/plain": [
       "(3315, 100, 100)"
      ]
     },
     "execution_count": 30,
     "metadata": {},
     "output_type": "execute_result"
    }
   ],
   "source": [
    "%%time\n",
    "\n",
    "reviews = df['text_org'].values.tolist()\n",
    "\n",
    "responses = []\n",
    "aspects = []\n",
    "    \n",
    "for text in tqdm(reviews_sampled):\n",
    "    response = chain.invoke(input=text+'<|im_end|>\\n')\n",
    "    responses.append(response)\n",
    "    aspects.append(response['data']['reviewabsa']['aspect'] if len(response['data'].keys())>0 \n",
    "                   else ['Miscellaneous'])\n",
    "\n",
    "len(reviews), len(responses), len(aspects)"
   ]
  },
  {
   "cell_type": "code",
   "execution_count": 33,
   "id": "dba529f0",
   "metadata": {
    "execution": {
     "iopub.execute_input": "2023-10-27T12:10:37.587212Z",
     "iopub.status.busy": "2023-10-27T12:10:37.586564Z",
     "iopub.status.idle": "2023-10-27T12:10:37.615888Z",
     "shell.execute_reply": "2023-10-27T12:10:37.614987Z",
     "shell.execute_reply.started": "2023-10-27T12:10:37.587179Z"
    }
   },
   "outputs": [
    {
     "name": "stdout",
     "output_type": "stream",
     "text": [
      "(100, 7)\n"
     ]
    }
   ],
   "source": [
    "df_test_pred = pd.DataFrame(columns=[f'predicted_{label}' for label in all_labels_sampled])\n",
    "df_test_pred['predicted_labels'] = [' '.join(aspect) for aspect in aspects_sampled]\n",
    "for label in all_labels_sampled:\n",
    "    df_test_pred[f'predicted_{label}'] = np.where(df_test_pred['predicted_labels'].str.contains(label), 1, 0)\n",
    "df_test_pred.index = df.iloc[0:sample].index\n",
    "print(df_test_pred.shape)"
   ]
  },
  {
   "cell_type": "markdown",
   "id": "267b86f0",
   "metadata": {},
   "source": [
    "## Evaluate Results"
   ]
  },
  {
   "cell_type": "code",
   "execution_count": 36,
   "id": "6789c790",
   "metadata": {
    "execution": {
     "iopub.execute_input": "2023-10-27T12:10:42.818374Z",
     "iopub.status.busy": "2023-10-27T12:10:42.817897Z",
     "iopub.status.idle": "2023-10-27T12:10:42.838924Z",
     "shell.execute_reply": "2023-10-27T12:10:42.837791Z",
     "shell.execute_reply.started": "2023-10-27T12:10:42.818335Z"
    }
   },
   "outputs": [
    {
     "name": "stdout",
     "output_type": "stream",
     "text": [
      "(100, 15)\n"
     ]
    },
    {
     "data": {
      "text/html": [
       "<div>\n",
       "<style scoped>\n",
       "    .dataframe tbody tr th:only-of-type {\n",
       "        vertical-align: middle;\n",
       "    }\n",
       "\n",
       "    .dataframe tbody tr th {\n",
       "        vertical-align: top;\n",
       "    }\n",
       "\n",
       "    .dataframe thead th {\n",
       "        text-align: right;\n",
       "    }\n",
       "</style>\n",
       "<table border=\"1\" class=\"dataframe\">\n",
       "  <thead>\n",
       "    <tr style=\"text-align: right;\">\n",
       "      <th></th>\n",
       "      <th>text_org</th>\n",
       "      <th>labels</th>\n",
       "      <th>predicted_labels</th>\n",
       "      <th>Ambience</th>\n",
       "      <th>Anecdotes</th>\n",
       "      <th>Food</th>\n",
       "      <th>Miscellaneous</th>\n",
       "      <th>Price</th>\n",
       "      <th>Staff</th>\n",
       "      <th>predicted_Ambience</th>\n",
       "      <th>predicted_Anecdotes</th>\n",
       "      <th>predicted_Food</th>\n",
       "      <th>predicted_Miscellaneous</th>\n",
       "      <th>predicted_Price</th>\n",
       "      <th>predicted_Staff</th>\n",
       "    </tr>\n",
       "  </thead>\n",
       "  <tbody>\n",
       "    <tr>\n",
       "      <th>0</th>\n",
       "      <td>Always a fun place ... the food is deeelish !</td>\n",
       "      <td>Food Ambience</td>\n",
       "      <td>Ambience Food</td>\n",
       "      <td>1</td>\n",
       "      <td>0</td>\n",
       "      <td>1</td>\n",
       "      <td>0</td>\n",
       "      <td>0</td>\n",
       "      <td>0</td>\n",
       "      <td>1</td>\n",
       "      <td>0</td>\n",
       "      <td>1</td>\n",
       "      <td>0</td>\n",
       "      <td>0</td>\n",
       "      <td>0</td>\n",
       "    </tr>\n",
       "    <tr>\n",
       "      <th>1</th>\n",
       "      <td>The staff is n't the friendliest or most competent , and I am stickler for service , but everything else about this place makes up for it .</td>\n",
       "      <td>Staff</td>\n",
       "      <td>Staff Miscellaneous</td>\n",
       "      <td>0</td>\n",
       "      <td>0</td>\n",
       "      <td>0</td>\n",
       "      <td>0</td>\n",
       "      <td>0</td>\n",
       "      <td>1</td>\n",
       "      <td>0</td>\n",
       "      <td>0</td>\n",
       "      <td>0</td>\n",
       "      <td>1</td>\n",
       "      <td>0</td>\n",
       "      <td>1</td>\n",
       "    </tr>\n",
       "    <tr>\n",
       "      <th>2</th>\n",
       "      <td>Great for groups , great for a date , great for early brunch or a nightcap .</td>\n",
       "      <td>Ambience</td>\n",
       "      <td>Miscellaneous</td>\n",
       "      <td>1</td>\n",
       "      <td>0</td>\n",
       "      <td>0</td>\n",
       "      <td>0</td>\n",
       "      <td>0</td>\n",
       "      <td>0</td>\n",
       "      <td>0</td>\n",
       "      <td>0</td>\n",
       "      <td>0</td>\n",
       "      <td>1</td>\n",
       "      <td>0</td>\n",
       "      <td>0</td>\n",
       "    </tr>\n",
       "    <tr>\n",
       "      <th>3</th>\n",
       "      <td>Another great place to take out-of-towners !</td>\n",
       "      <td>Miscellaneous</td>\n",
       "      <td>Miscellaneous</td>\n",
       "      <td>0</td>\n",
       "      <td>0</td>\n",
       "      <td>0</td>\n",
       "      <td>1</td>\n",
       "      <td>0</td>\n",
       "      <td>0</td>\n",
       "      <td>0</td>\n",
       "      <td>0</td>\n",
       "      <td>0</td>\n",
       "      <td>1</td>\n",
       "      <td>0</td>\n",
       "      <td>0</td>\n",
       "    </tr>\n",
       "    <tr>\n",
       "      <th>4</th>\n",
       "      <td>: )</td>\n",
       "      <td>Miscellaneous</td>\n",
       "      <td>Miscellaneous</td>\n",
       "      <td>0</td>\n",
       "      <td>0</td>\n",
       "      <td>0</td>\n",
       "      <td>1</td>\n",
       "      <td>0</td>\n",
       "      <td>0</td>\n",
       "      <td>0</td>\n",
       "      <td>0</td>\n",
       "      <td>0</td>\n",
       "      <td>1</td>\n",
       "      <td>0</td>\n",
       "      <td>0</td>\n",
       "    </tr>\n",
       "  </tbody>\n",
       "</table>\n",
       "</div>"
      ],
      "text/plain": [
       "                                                                                                                                        text_org  \\\n",
       "0                                                                                                 Always a fun place ... the food is deeelish !    \n",
       "1   The staff is n't the friendliest or most competent , and I am stickler for service , but everything else about this place makes up for it .    \n",
       "2                                                                  Great for groups , great for a date , great for early brunch or a nightcap .    \n",
       "3                                                                                                  Another great place to take out-of-towners !    \n",
       "4                                                                                                                                           : )    \n",
       "\n",
       "          labels     predicted_labels  Ambience  Anecdotes  Food  \\\n",
       "0  Food Ambience        Ambience Food         1          0     1   \n",
       "1          Staff  Staff Miscellaneous         0          0     0   \n",
       "2       Ambience        Miscellaneous         1          0     0   \n",
       "3  Miscellaneous        Miscellaneous         0          0     0   \n",
       "4  Miscellaneous        Miscellaneous         0          0     0   \n",
       "\n",
       "   Miscellaneous  Price  Staff  predicted_Ambience  predicted_Anecdotes  \\\n",
       "0              0      0      0                   1                    0   \n",
       "1              0      0      1                   0                    0   \n",
       "2              0      0      0                   0                    0   \n",
       "3              1      0      0                   0                    0   \n",
       "4              1      0      0                   0                    0   \n",
       "\n",
       "   predicted_Food  predicted_Miscellaneous  predicted_Price  predicted_Staff  \n",
       "0               1                        0                0                0  \n",
       "1               0                        1                0                1  \n",
       "2               0                        1                0                0  \n",
       "3               0                        1                0                0  \n",
       "4               0                        1                0                0  "
      ]
     },
     "execution_count": 36,
     "metadata": {},
     "output_type": "execute_result"
    }
   ],
   "source": [
    "df_final = pd.concat([df.iloc[0:sample], df_test_pred], axis=1)\n",
    "print(df_final.shape)\n",
    "df_final = df_final[['text_org', 'labels', 'predicted_labels']+all_labels_sampled+[f'predicted_{label}' for label in all_labels_sampled]] \n",
    "df_final.head()"
   ]
  },
  {
   "cell_type": "code",
   "execution_count": 37,
   "id": "b33e6c52",
   "metadata": {
    "execution": {
     "iopub.execute_input": "2023-10-27T12:14:07.693994Z",
     "iopub.status.busy": "2023-10-27T12:14:07.693646Z",
     "iopub.status.idle": "2023-10-27T12:14:07.738635Z",
     "shell.execute_reply": "2023-10-27T12:14:07.737741Z",
     "shell.execute_reply.started": "2023-10-27T12:14:07.693968Z"
    }
   },
   "outputs": [
    {
     "name": "stdout",
     "output_type": "stream",
     "text": [
      "Label:  Ambience\n",
      "Accuracy:  0.87\n",
      "F1 Score:  0.552\n",
      "Precision:  0.667\n",
      "Recall:  0.471\n",
      "***************\n",
      "Label:  Food\n",
      "Accuracy:  0.88\n",
      "F1 Score:  0.714\n",
      "Precision:  0.833\n",
      "Recall:  0.625\n",
      "***************\n",
      "Label:  Price\n",
      "Accuracy:  0.99\n",
      "F1 Score:  0.8\n",
      "Precision:  1.0\n",
      "Recall:  0.667\n",
      "***************\n",
      "Label:  Staff\n",
      "Accuracy:  0.97\n",
      "F1 Score:  0.914\n",
      "Precision:  1.0\n",
      "Recall:  0.842\n",
      "***************\n"
     ]
    }
   ],
   "source": [
    "interested_labels = ['Ambience', 'Food', 'Price', 'Staff']\n",
    "for label in interested_labels:\n",
    "    print('Label: ', label)\n",
    "    y_true = df_final[label]\n",
    "    y_pred = df_final[f'predicted_{label}']\n",
    "    print('Accuracy: ', np.round(accuracy_score(y_true, y_pred),3))\n",
    "    print('F1 Score: ', np.round(f1_score(y_true, y_pred),3))\n",
    "    print('Precision: ', np.round(precision_score(y_true, y_pred),3))\n",
    "    print('Recall: ', np.round(recall_score(y_true, y_pred),3))\n",
    "    print('***************')"
   ]
  },
  {
   "cell_type": "code",
   "execution_count": 38,
   "id": "446def58",
   "metadata": {
    "execution": {
     "iopub.execute_input": "2023-10-27T12:19:46.090310Z",
     "iopub.status.busy": "2023-10-27T12:19:46.089552Z",
     "iopub.status.idle": "2023-10-27T12:19:46.117354Z",
     "shell.execute_reply": "2023-10-27T12:19:46.116425Z",
     "shell.execute_reply.started": "2023-10-27T12:19:46.090278Z"
    }
   },
   "outputs": [
    {
     "name": "stdout",
     "output_type": "stream",
     "text": [
      "Label:  Anecdotes\n",
      "Accuracy:  0.81\n",
      "F1 Score:  0.0\n",
      "Precision:  0.0\n",
      "Recall:  0.0\n",
      "***************\n",
      "Label:  Miscellaneous\n",
      "Accuracy:  0.61\n",
      "F1 Score:  0.621\n",
      "Precision:  0.457\n",
      "Recall:  0.97\n",
      "***************\n"
     ]
    }
   ],
   "source": [
    "other_labels = ['Anecdotes', 'Miscellaneous']\n",
    "for label in other_labels:\n",
    "    print('Label: ', label)\n",
    "    y_true = df_final[label]\n",
    "    y_pred = df_final[f'predicted_{label}']\n",
    "    print('Accuracy: ', np.round(accuracy_score(y_true, y_pred),3))\n",
    "    print('F1 Score: ', np.round(f1_score(y_true, y_pred),3))\n",
    "    print('Precision: ', np.round(precision_score(y_true, y_pred),3))\n",
    "    print('Recall: ', np.round(recall_score(y_true, y_pred),3))\n",
    "    print('***************')"
   ]
  },
  {
   "cell_type": "markdown",
   "id": "67950c4b",
   "metadata": {
    "execution": {
     "iopub.execute_input": "2023-10-26T17:54:44.618735Z",
     "iopub.status.busy": "2023-10-26T17:54:44.618443Z",
     "iopub.status.idle": "2023-10-26T17:54:44.634072Z",
     "shell.execute_reply": "2023-10-26T17:54:44.633259Z",
     "shell.execute_reply.started": "2023-10-26T17:54:44.618710Z"
    }
   },
   "source": [
    "## Another Misral AI example:"
   ]
  },
  {
   "cell_type": "code",
   "execution_count": 74,
   "id": "a2c137c3",
   "metadata": {
    "execution": {
     "iopub.execute_input": "2023-10-27T08:13:46.673461Z",
     "iopub.status.busy": "2023-10-27T08:13:46.673104Z",
     "iopub.status.idle": "2023-10-27T08:13:46.677591Z",
     "shell.execute_reply": "2023-10-27T08:13:46.676681Z",
     "shell.execute_reply.started": "2023-10-27T08:13:46.673433Z"
    }
   },
   "outputs": [
    {
     "data": {
      "text/html": [
       "<div>\n",
       "<style scoped>\n",
       "    .dataframe tbody tr th:only-of-type {\n",
       "        vertical-align: middle;\n",
       "    }\n",
       "\n",
       "    .dataframe tbody tr th {\n",
       "        vertical-align: top;\n",
       "    }\n",
       "\n",
       "    .dataframe thead th {\n",
       "        text-align: right;\n",
       "    }\n",
       "</style>\n",
       "<table border=\"1\" class=\"dataframe\">\n",
       "  <thead>\n",
       "    <tr style=\"text-align: right;\">\n",
       "      <th></th>\n",
       "      <th>Text</th>\n",
       "      <th>Person</th>\n",
       "      <th>Date</th>\n",
       "      <th>Location</th>\n",
       "      <th>Event</th>\n",
       "      <th>Organization</th>\n",
       "    </tr>\n",
       "  </thead>\n",
       "  <tbody>\n",
       "    <tr>\n",
       "      <th>0</th>\n",
       "      <td>John Doe attended the annual conference in New York on September 10, 2023, hosted by Microsoft.</td>\n",
       "      <td>John Doe</td>\n",
       "      <td>September 10, 2023</td>\n",
       "      <td>New York</td>\n",
       "      <td>Annual conference</td>\n",
       "      <td>Microsoft</td>\n",
       "    </tr>\n",
       "    <tr>\n",
       "      <th>1</th>\n",
       "      <td>Jane Smith delivered a keynote speech at the AI Summit in San Francisco on March 15, 2022, organized by Google.</td>\n",
       "      <td>Jane Smith</td>\n",
       "      <td>March 15, 2022</td>\n",
       "      <td>San Francisco</td>\n",
       "      <td>AI Summit</td>\n",
       "      <td>Google</td>\n",
       "    </tr>\n",
       "    <tr>\n",
       "      <th>2</th>\n",
       "      <td>Michael Johnson was invited to the World Economic Forum in Davos on January 21, 2024, as a representative of Tesla.</td>\n",
       "      <td>Michael Johnson</td>\n",
       "      <td>January 21, 2024</td>\n",
       "      <td>Davos</td>\n",
       "      <td>World Economic Forum</td>\n",
       "      <td>Tesla</td>\n",
       "    </tr>\n",
       "    <tr>\n",
       "      <th>3</th>\n",
       "      <td>Alice Brown participated in the Global Health Conference in London on July 18, 2021, sponsored by WHO.</td>\n",
       "      <td>Alice Brown</td>\n",
       "      <td>July 18, 2021</td>\n",
       "      <td>London</td>\n",
       "      <td>Global Health Conference</td>\n",
       "      <td>WHO</td>\n",
       "    </tr>\n",
       "    <tr>\n",
       "      <th>4</th>\n",
       "      <td>David Wilson joined the Cybersecurity Expo in Berlin on November 2, 2023, held by IBM.</td>\n",
       "      <td>David Wilson</td>\n",
       "      <td>November 2, 2023</td>\n",
       "      <td>Berlin</td>\n",
       "      <td>Cybersecurity Expo</td>\n",
       "      <td>IBM</td>\n",
       "    </tr>\n",
       "  </tbody>\n",
       "</table>\n",
       "</div>"
      ],
      "text/plain": [
       "                                                                                                                  Text  \\\n",
       "0                      John Doe attended the annual conference in New York on September 10, 2023, hosted by Microsoft.   \n",
       "1      Jane Smith delivered a keynote speech at the AI Summit in San Francisco on March 15, 2022, organized by Google.   \n",
       "2  Michael Johnson was invited to the World Economic Forum in Davos on January 21, 2024, as a representative of Tesla.   \n",
       "3               Alice Brown participated in the Global Health Conference in London on July 18, 2021, sponsored by WHO.   \n",
       "4                               David Wilson joined the Cybersecurity Expo in Berlin on November 2, 2023, held by IBM.   \n",
       "\n",
       "            Person                Date       Location  \\\n",
       "0         John Doe  September 10, 2023       New York   \n",
       "1       Jane Smith      March 15, 2022  San Francisco   \n",
       "2  Michael Johnson    January 21, 2024          Davos   \n",
       "3      Alice Brown       July 18, 2021         London   \n",
       "4     David Wilson    November 2, 2023         Berlin   \n",
       "\n",
       "                      Event Organization  \n",
       "0         Annual conference    Microsoft  \n",
       "1                 AI Summit       Google  \n",
       "2      World Economic Forum        Tesla  \n",
       "3  Global Health Conference          WHO  \n",
       "4        Cybersecurity Expo          IBM  "
      ]
     },
     "execution_count": 74,
     "metadata": {},
     "output_type": "execute_result"
    }
   ],
   "source": [
    "import pandas as pd\n",
    "\n",
    "# Define the dataset structure\n",
    "data = {\n",
    "    \"Text\": [],\n",
    "    \"Person\": [],\n",
    "    \"Date\": [],\n",
    "    \"Location\": [],\n",
    "    \"Event\": [],\n",
    "    \"Organization\": []\n",
    "}\n",
    "\n",
    "# Entry 1\n",
    "data[\"Text\"].append(\"John Doe attended the annual conference in New York on September 10, 2023, hosted by Microsoft.\")\n",
    "data[\"Person\"].append(\"John Doe\")\n",
    "data[\"Date\"].append(\"September 10, 2023\")\n",
    "data[\"Location\"].append(\"New York\")\n",
    "data[\"Event\"].append(\"Annual conference\")\n",
    "data[\"Organization\"].append(\"Microsoft\")\n",
    "\n",
    "# Entry 2\n",
    "data[\"Text\"].append(\"Jane Smith delivered a keynote speech at the AI Summit in San Francisco on March 15, 2022, organized by Google.\")\n",
    "data[\"Person\"].append(\"Jane Smith\")\n",
    "data[\"Date\"].append(\"March 15, 2022\")\n",
    "data[\"Location\"].append(\"San Francisco\")\n",
    "data[\"Event\"].append(\"AI Summit\")\n",
    "data[\"Organization\"].append(\"Google\")\n",
    "\n",
    "# Entry 3\n",
    "data[\"Text\"].append(\"Michael Johnson was invited to the World Economic Forum in Davos on January 21, 2024, as a representative of Tesla.\")\n",
    "data[\"Person\"].append(\"Michael Johnson\")\n",
    "data[\"Date\"].append(\"January 21, 2024\")\n",
    "data[\"Location\"].append(\"Davos\")\n",
    "data[\"Event\"].append(\"World Economic Forum\")\n",
    "data[\"Organization\"].append(\"Tesla\")\n",
    "\n",
    "# Entry 4\n",
    "data[\"Text\"].append(\"Alice Brown participated in the Global Health Conference in London on July 18, 2021, sponsored by WHO.\")\n",
    "data[\"Person\"].append(\"Alice Brown\")\n",
    "data[\"Date\"].append(\"July 18, 2021\")\n",
    "data[\"Location\"].append(\"London\")\n",
    "data[\"Event\"].append(\"Global Health Conference\")\n",
    "data[\"Organization\"].append(\"WHO\")\n",
    "\n",
    "# Entry 5\n",
    "data[\"Text\"].append(\"David Wilson joined the Cybersecurity Expo in Berlin on November 2, 2023, held by IBM.\")\n",
    "data[\"Person\"].append(\"David Wilson\")\n",
    "data[\"Date\"].append(\"November 2, 2023\")\n",
    "data[\"Location\"].append(\"Berlin\")\n",
    "data[\"Event\"].append(\"Cybersecurity Expo\")\n",
    "data[\"Organization\"].append(\"IBM\")\n",
    "\n",
    "# Create DataFrame\n",
    "df = pd.DataFrame(data)\n",
    "\n",
    "# Save to CSV (Optional)\n",
    "df.to_csv('structured_data_dataset.csv', index=False)\n",
    "\n",
    "# Display the dataset\n",
    "df"
   ]
  },
  {
   "cell_type": "code",
   "execution_count": 117,
   "id": "0048b132",
   "metadata": {},
   "outputs": [
    {
     "data": {
      "text/plain": [
       "'{\"Text\":\"John Doe attended the annual conference in New York on September 10, 2023, hosted by Microsoft.\",\"Person\":\"John Doe\",\"Date\":\"September 10, 2023\",\"Location\":\"New York\",\"Event\":\"Annual conference\",\"Organization\":\"Microsoft\"}\\n{\"Text\":\"Jane Smith delivered a keynote speech at the AI Summit in San Francisco on March 15, 2022, organized by Google.\",\"Person\":\"Jane Smith\",\"Date\":\"March 15, 2022\",\"Location\":\"San Francisco\",\"Event\":\"AI Summit\",\"Organization\":\"Google\"}\\n{\"Text\":\"Michael Johnson was invited to the World Economic Forum in Davos on January 21, 2024, as a representative of Tesla.\",\"Person\":\"Michael Johnson\",\"Date\":\"January 21, 2024\",\"Location\":\"Davos\",\"Event\":\"World Economic Forum\",\"Organization\":\"Tesla\"}\\n{\"Text\":\"Alice Brown participated in the Global Health Conference in London on July 18, 2021, sponsored by WHO.\",\"Person\":\"Alice Brown\",\"Date\":\"July 18, 2021\",\"Location\":\"London\",\"Event\":\"Global Health Conference\",\"Organization\":\"WHO\"}\\n{\"Text\":\"David Wilson joined the Cybersecurity Expo in Berlin on November 2, 2023, held by IBM.\",\"Person\":\"David Wilson\",\"Date\":\"November 2, 2023\",\"Location\":\"Berlin\",\"Event\":\"Cybersecurity Expo\",\"Organization\":\"IBM\"}\\n'"
      ]
     },
     "execution_count": 117,
     "metadata": {},
     "output_type": "execute_result"
    }
   ],
   "source": [
    "# Wrap pattern column in a dictionary\n",
    "#df[\"pattern\"] = df.apply(lambda x: {\"Person\": x[0]})\n",
    "import ast\n",
    "# Output in JSONL format\n",
    "jsonl_data =df.to_json(orient='records', lines=True)\n",
    "jsonl_data\n",
    "# jsonl_data_dict = ast.literal_eval(jsonl_data)\n",
    "# # jsonl_data_dict\n",
    "# {i:[eval(x)]  for i,x in enumerate(jsonl_data.split('\\n'))}"
   ]
  },
  {
   "cell_type": "code",
   "execution_count": 118,
   "id": "dbe73de5",
   "metadata": {},
   "outputs": [],
   "source": [
    "# define prompt template\n",
    "prompt_template = \"\"\"\n",
    "Extract information from the following medical notes:\n",
    "{Text}\n",
    "\n",
    "Return json format with the following JSON schema: \n",
    "\n",
    "{{\n",
    "        \"Person\": {{\n",
    "            \"type\": \"string\"\n",
    "        }},\n",
    "        \"Date\": {{\n",
    "            \"type\": \"date\",\n",
    "        }},\n",
    "        \"Location\": {{\n",
    "            \"type\": \"string\",\n",
    "        }},\n",
    "        \"Event\": {{\n",
    "            \"type\": \"string\"\n",
    "        }},\n",
    "        \"Organization\": {{\n",
    "            \"type\": \"string\",\n",
    "        }},\n",
    "        \n",
    "}}\n",
    "\"\"\""
   ]
  },
  {
   "cell_type": "code",
   "execution_count": null,
   "id": "72557655",
   "metadata": {},
   "outputs": [],
   "source": []
  },
  {
   "cell_type": "code",
   "execution_count": 119,
   "id": "3394f2c2",
   "metadata": {},
   "outputs": [],
   "source": [
    "# jsonl_data.keys()#[x for x in jsonl_data[i].keys() if x !='Text']"
   ]
  },
  {
   "cell_type": "code",
   "execution_count": 120,
   "id": "05a6b688",
   "metadata": {},
   "outputs": [],
   "source": [
    "# {    \"record1\": {\n",
    "#         \"medical_notes\":  \"the relevant text\",\n",
    "#         \"golden_answer\": {\n",
    "#             \"Person\": 'value',\n",
    "#             \"Date\": \"value\",\n",
    "#             \"Locatoion\": \"value\",\n",
    "#             \"Event\": 'value',\n",
    "#             \"Organization\": \"value\",\n",
    "#         },\n",
    "#     },\n",
    "#     \"record2\": {\n",
    "#         \"text\": \"the relevant text\",\n",
    "#         \"golden_answer\": {\n",
    "#             \"Person\": 55,\n",
    "#             \"Date\": \"value\",\n",
    "#             \"Locatoion\": \"value\",\n",
    "#             \"Event\": 'value',\n",
    "#             \"Organization\": \"value\",\n",
    "#         },\n",
    "#     },\n",
    "# }"
   ]
  },
  {
   "cell_type": "code",
   "execution_count": 121,
   "id": "0ad8fdfb",
   "metadata": {},
   "outputs": [
    {
     "data": {
      "text/plain": [
       "'{\\n    \"record1\": {\\n        \"Text\": \"John Doe attended the annual conference in New York on September 10, 2023, hosted by Microsoft.\",\\n        \"golden_answer\": {\\n            \"Person\": \"John Doe\",\\n            \"Date\": \"September 10, 2023\",\\n            \"Location\": \"New York\",\\n            \"Event\": \"Annual conference\",\\n            \"Organization\": \"Microsoft\"\\n        }\\n    },\\n    \"record2\": {\\n        \"Text\": \"Jane Smith delivered a keynote speech at the AI Summit in San Francisco on March 15, 2022, organized by Google.\",\\n        \"golden_answer\": {\\n            \"Person\": \"Jane Smith\",\\n            \"Date\": \"March 15, 2022\",\\n            \"Location\": \"San Francisco\",\\n            \"Event\": \"AI Summit\",\\n            \"Organization\": \"Google\"\\n        }\\n    },\\n    \"record3\": {\\n        \"Text\": \"Michael Johnson was invited to the World Economic Forum in Davos on January 21, 2024, as a representative of Tesla.\",\\n        \"golden_answer\": {\\n            \"Person\": \"Michael Johnson\",\\n            \"Date\": \"January 21, 2024\",\\n            \"Location\": \"Davos\",\\n            \"Event\": \"World Economic Forum\",\\n            \"Organization\": \"Tesla\"\\n        }\\n    },\\n    \"record4\": {\\n        \"Text\": \"Alice Brown participated in the Global Health Conference in London on July 18, 2021, sponsored by WHO.\",\\n        \"golden_answer\": {\\n            \"Person\": \"Alice Brown\",\\n            \"Date\": \"July 18, 2021\",\\n            \"Location\": \"London\",\\n            \"Event\": \"Global Health Conference\",\\n            \"Organization\": \"WHO\"\\n        }\\n    },\\n    \"record5\": {\\n        \"Text\": \"David Wilson joined the Cybersecurity Expo in Berlin on November 2, 2023, held by IBM.\",\\n        \"golden_answer\": {\\n            \"Person\": \"David Wilson\",\\n            \"Date\": \"November 2, 2023\",\\n            \"Location\": \"Berlin\",\\n            \"Event\": \"Cybersecurity Expo\",\\n            \"Organization\": \"IBM\"\\n        }\\n    }\\n}'"
      ]
     },
     "execution_count": 121,
     "metadata": {},
     "output_type": "execute_result"
    }
   ],
   "source": [
    "import json\n",
    "\n",
    "# Original string with newline-separated JSON entries\n",
    "original_string = '''{\"Text\":\"John Doe attended the annual conference in New York on September 10, 2023, hosted by Microsoft.\",\"Person\":\"John Doe\",\"Date\":\"September 10, 2023\",\"Location\":\"New York\",\"Event\":\"Annual conference\",\"Organization\":\"Microsoft\"}\\n{\"Text\":\"Jane Smith delivered a keynote speech at the AI Summit in San Francisco on March 15, 2022, organized by Google.\",\"Person\":\"Jane Smith\",\"Date\":\"March 15, 2022\",\"Location\":\"San Francisco\",\"Event\":\"AI Summit\",\"Organization\":\"Google\"}\\n{\"Text\":\"Michael Johnson was invited to the World Economic Forum in Davos on January 21, 2024, as a representative of Tesla.\",\"Person\":\"Michael Johnson\",\"Date\":\"January 21, 2024\",\"Location\":\"Davos\",\"Event\":\"World Economic Forum\",\"Organization\":\"Tesla\"}\\n{\"Text\":\"Alice Brown participated in the Global Health Conference in London on July 18, 2021, sponsored by WHO.\",\"Person\":\"Alice Brown\",\"Date\":\"July 18, 2021\",\"Location\":\"London\",\"Event\":\"Global Health Conference\",\"Organization\":\"WHO\"}\\n{\"Text\":\"David Wilson joined the Cybersecurity Expo in Berlin on November 2, 2023, held by IBM.\",\"Person\":\"David Wilson\",\"Date\":\"November 2, 2023\",\"Location\":\"Berlin\",\"Event\":\"Cybersecurity Expo\",\"Organization\":\"IBM\"}\\n'''\n",
    "\n",
    "# Split the string into individual JSON objects\n",
    "json_entries = original_string.strip().split('\\n')\n",
    "\n",
    "# Parse each JSON string into a dictionary\n",
    "records = []\n",
    "for i, entry in enumerate(json_entries):\n",
    "    parsed_entry = json.loads(entry)\n",
    "    \n",
    "    # Create a record for each entry with the desired structure\n",
    "    record = {\n",
    "        f\"record{i+1}\": {\n",
    "            \"Text\": parsed_entry[\"Text\"],\n",
    "            \"golden_answer\": {\n",
    "                \"Person\": parsed_entry[\"Person\"],\n",
    "                \"Date\": parsed_entry[\"Date\"],\n",
    "                \"Location\": parsed_entry[\"Location\"],\n",
    "                \"Event\": parsed_entry[\"Event\"],\n",
    "                \"Organization\": parsed_entry[\"Organization\"],\n",
    "            }\n",
    "        }\n",
    "    }\n",
    "    records.append(record)\n",
    "\n",
    "# Combine all records into a single dictionary\n",
    "final_output = {key: value for record in records for key, value in record.items()}\n",
    "\n",
    "# Convert the final output to JSON string for pretty-printing\n",
    "final_json = json.dumps(final_output, indent=4)\n",
    "\n",
    "# Print the final JSON structure\n",
    "final_json"
   ]
  },
  {
   "cell_type": "code",
   "execution_count": null,
   "id": "237f9723",
   "metadata": {},
   "outputs": [
    {
     "name": "stdout",
     "output_type": "stream",
     "text": [
      "{'Text': 'John Doe attended the annual conference in New York on September 10, 2023, hosted by Microsoft.', 'golden_answer': {'Person': 'John Doe', 'Date': 'September 10, 2023', 'Location': 'New York', 'Event': 'Annual conference', 'Organization': 'Microsoft'}}\n",
      "{'Text': 'Jane Smith delivered a keynote speech at the AI Summit in San Francisco on March 15, 2022, organized by Google.', 'golden_answer': {'Person': 'Jane Smith', 'Date': 'March 15, 2022', 'Location': 'San Francisco', 'Event': 'AI Summit', 'Organization': 'Google'}}\n",
      "{'Text': 'Michael Johnson was invited to the World Economic Forum in Davos on January 21, 2024, as a representative of Tesla.', 'golden_answer': {'Person': 'Michael Johnson', 'Date': 'January 21, 2024', 'Location': 'Davos', 'Event': 'World Economic Forum', 'Organization': 'Tesla'}}\n"
     ]
    }
   ],
   "source": [
    "accuracy_rates = []\n",
    "def run_mistral(user_message, model=\"mistral-large-latest\"):\n",
    "    client = Mistral(api_key=os.getenv(\"MISTRAL_API_KEY\"))\n",
    "    messages = [{\"role\": \"user\", \"content\": user_message}]\n",
    "    chat_response = client.chat.complete(\n",
    "        model=model,\n",
    "        messages=messages,\n",
    "        response_format={\"type\": \"json_object\"},\n",
    "    )\n",
    "    return chat_response.choices[0].message.content\n",
    "\n",
    "def calc_accuracy_rates(data):\n",
    "    # for each test case\n",
    "    for i,name in enumerate(data):\n",
    "        print(data[name])\n",
    "        # define user message\n",
    "        user_message = prompt_template.format(Text=data[name])\n",
    "\n",
    "        # run LLM\n",
    "        response = json.loads(run_mistral(user_message))\n",
    "\n",
    "        # calculate accuracy rate for this test case\n",
    "        accuracy_rates.append(\n",
    "            compare_json_objects(response, data[name][\"golden_answer\"])\n",
    "        )\n",
    "    return accuracy_rates\n",
    "# calculate accuracy rate across test cases\n",
    "accuracy_rates = calc_accuracy_rates(eval(final_json))\n",
    "sum(accuracy_rates) / len(accuracy_rates)"
   ]
  },
  {
   "cell_type": "code",
   "execution_count": 105,
   "id": "ad5ba0c0",
   "metadata": {},
   "outputs": [],
   "source": [
    "# accuracy_rates = []\n",
    "\n",
    "# # for each test case\n",
    "# for name in prompts:\n",
    "\n",
    "#     # define user message\n",
    "#     user_message = prompt_template.format(medical_notes=prompts[name][\"medical_notes\"])\n",
    "\n",
    "#     # run LLM\n",
    "#     response = json.loads(run_mistral(user_message))\n",
    "\n",
    "#     # calculate accuracy rate for this test case\n",
    "#     accuracy_rates.append(\n",
    "#         compare_json_objects(response, prompts[name][\"golden_answer\"])\n",
    "#     )\n",
    "\n",
    "# # calculate accuracy rate across test cases\n",
    "# sum(accuracy_rates) / len(accuracy_rates)"
   ]
  },
  {
   "cell_type": "code",
   "execution_count": null,
   "id": "1c9044e4",
   "metadata": {},
   "outputs": [],
   "source": []
  }
 ],
 "metadata": {
  "kernelspec": {
   "display_name": "Python 3.10 (tensorflow)",
   "language": "python",
   "name": "tensorflow"
  },
  "language_info": {
   "codemirror_mode": {
    "name": "ipython",
    "version": 3
   },
   "file_extension": ".py",
   "mimetype": "text/x-python",
   "name": "python",
   "nbconvert_exporter": "python",
   "pygments_lexer": "ipython3",
   "version": "3.10.9"
  }
 },
 "nbformat": 4,
 "nbformat_minor": 5
}
