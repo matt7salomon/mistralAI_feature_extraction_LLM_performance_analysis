{
 "cells": [
  {
   "cell_type": "code",
   "execution_count": 1,
   "id": "70152ca0",
   "metadata": {},
   "outputs": [
    {
     "name": "stdout",
     "output_type": "stream",
     "text": [
      "\u001b[33mWARNING: Ignoring invalid distribution -angchain-core (/Users/mattsalomon/miniconda3/envs/tensorflow/lib/python3.10/site-packages)\u001b[0m\u001b[33m\n",
      "\u001b[0m\u001b[33mWARNING: Ignoring invalid distribution -angchain-core (/Users/mattsalomon/miniconda3/envs/tensorflow/lib/python3.10/site-packages)\u001b[0m\u001b[33m\n",
      "\u001b[0mLooking in indexes: https://pypi.org/simple, https://download.pytorch.org/whl/nightly/cpu\n",
      "Requirement already satisfied: torch in /Users/mattsalomon/miniconda3/envs/tensorflow/lib/python3.10/site-packages (2.5.0.dev20240902)\n",
      "Requirement already satisfied: torchvision in /Users/mattsalomon/miniconda3/envs/tensorflow/lib/python3.10/site-packages (0.20.0.dev20240902)\n",
      "Requirement already satisfied: torchaudio in /Users/mattsalomon/miniconda3/envs/tensorflow/lib/python3.10/site-packages (2.5.0.dev20240902)\n",
      "Requirement already satisfied: jinja2 in /Users/mattsalomon/miniconda3/envs/tensorflow/lib/python3.10/site-packages (from torch) (3.1.2)\n",
      "Requirement already satisfied: typing-extensions>=4.8.0 in /Users/mattsalomon/miniconda3/envs/tensorflow/lib/python3.10/site-packages (from torch) (4.12.2)\n",
      "Requirement already satisfied: sympy==1.13.1 in /Users/mattsalomon/miniconda3/envs/tensorflow/lib/python3.10/site-packages (from torch) (1.13.1)\n",
      "Requirement already satisfied: networkx in /Users/mattsalomon/miniconda3/envs/tensorflow/lib/python3.10/site-packages (from torch) (3.0)\n",
      "Requirement already satisfied: filelock in /Users/mattsalomon/miniconda3/envs/tensorflow/lib/python3.10/site-packages (from torch) (3.13.1)\n",
      "Requirement already satisfied: fsspec in /Users/mattsalomon/miniconda3/envs/tensorflow/lib/python3.10/site-packages (from torch) (2023.10.0)\n",
      "Requirement already satisfied: mpmath<1.4,>=1.1.0 in /Users/mattsalomon/miniconda3/envs/tensorflow/lib/python3.10/site-packages (from sympy==1.13.1->torch) (1.3.0)\n",
      "Requirement already satisfied: pillow!=8.3.*,>=5.3.0 in /Users/mattsalomon/miniconda3/envs/tensorflow/lib/python3.10/site-packages (from torchvision) (9.4.0)\n",
      "Requirement already satisfied: numpy in /Users/mattsalomon/miniconda3/envs/tensorflow/lib/python3.10/site-packages (from torchvision) (1.23.5)\n",
      "Requirement already satisfied: MarkupSafe>=2.0 in /Users/mattsalomon/miniconda3/envs/tensorflow/lib/python3.10/site-packages (from jinja2->torch) (2.1.2)\n",
      "\u001b[33mWARNING: Ignoring invalid distribution -angchain-core (/Users/mattsalomon/miniconda3/envs/tensorflow/lib/python3.10/site-packages)\u001b[0m\u001b[33m\n",
      "\u001b[0m\u001b[33mWARNING: Ignoring invalid distribution -angchain-core (/Users/mattsalomon/miniconda3/envs/tensorflow/lib/python3.10/site-packages)\u001b[0m\u001b[33m\n",
      "\u001b[0m\u001b[33mWARNING: Ignoring invalid distribution -angchain-core (/Users/mattsalomon/miniconda3/envs/tensorflow/lib/python3.10/site-packages)\u001b[0m\u001b[33m\n",
      "\u001b[0m\u001b[33mWARNING: Ignoring invalid distribution -angchain-core (/Users/mattsalomon/miniconda3/envs/tensorflow/lib/python3.10/site-packages)\u001b[0m\u001b[33m\n",
      "\u001b[0mNote: you may need to restart the kernel to use updated packages.\n"
     ]
    }
   ],
   "source": [
    "#%pip install --upgrade pytorch torchvision torchaudio -c pytorch-nightly\n",
    "%pip install --pre torch torchvision torchaudio --extra-index-url https://download.pytorch.org/whl/nightly/cpu\n"
   ]
  },
  {
   "cell_type": "code",
   "execution_count": 2,
   "id": "7562ae85",
   "metadata": {},
   "outputs": [],
   "source": [
    "import os\n",
    "from mistralai import Mistral\n",
    "from dotenv import load_dotenv\n",
    "load_dotenv()\n",
    "import os"
   ]
  },
  {
   "cell_type": "code",
   "execution_count": 3,
   "id": "4450879d",
   "metadata": {},
   "outputs": [],
   "source": [
    "prompts = {\n",
    "    \"Johnson\": {\n",
    "        \"medical_notes\": \"A 60-year-old male patient, Mr. Johnson, presented with symptoms of increased thirst, frequent urination, fatigue, and unexplained weight loss. Upon evaluation, he was diagnosed with diabetes, confirmed by elevated blood sugar levels. Mr. Johnson's weight is 210 lbs. He has been prescribed Metformin to be taken twice daily with meals. It was noted during the consultation that the patient is a current smoker. \",\n",
    "        \"golden_answer\": {\n",
    "            \"age\": 60,\n",
    "            \"gender\": \"male\",\n",
    "            \"diagnosis\": \"diabetes\",\n",
    "            \"weight\": 210,\n",
    "            \"smoking\": \"yes\",\n",
    "        },\n",
    "    },\n",
    "    \"Smith\": {\n",
    "        \"medical_notes\": \"Mr. Smith, a 55-year-old male patient, presented with severe joint pain and stiffness in his knees and hands, along with swelling and limited range of motion. After a thorough examination and diagnostic tests, he was diagnosed with arthritis. It is important for Mr. Smith to maintain a healthy weight (currently at 150 lbs) and quit smoking, as these factors can exacerbate symptoms of arthritis and contribute to joint damage.\",\n",
    "        \"golden_answer\": {\n",
    "            \"age\": 55,\n",
    "            \"gender\": \"male\",\n",
    "            \"diagnosis\": \"arthritis\",\n",
    "            \"weight\": 150,\n",
    "            \"smoking\": \"yes\",\n",
    "        },\n",
    "    },\n",
    "}"
   ]
  },
  {
   "cell_type": "code",
   "execution_count": 4,
   "id": "4b8310cb",
   "metadata": {},
   "outputs": [],
   "source": [
    "def run_mistral(user_message, model=\"mistral-large-latest\"):\n",
    "    client = Mistral(api_key=os.getenv(\"MISTRAL_API_KEY\"))\n",
    "    messages = [{\"role\": \"user\", \"content\": user_message}]\n",
    "    chat_response = client.chat.complete(\n",
    "        model=model,\n",
    "        messages=messages,\n",
    "        response_format={\"type\": \"json_object\"},\n",
    "    )\n",
    "    return chat_response.choices[0].message.content\n",
    "\n",
    "\n",
    "# define prompt template\n",
    "prompt_template = \"\"\"\n",
    "Extract information from the following medical notes:\n",
    "{medical_notes}\n",
    "\n",
    "Return json format with the following JSON schema: \n",
    "\n",
    "{{\n",
    "        \"age\": {{\n",
    "            \"type\": \"integer\"\n",
    "        }},\n",
    "        \"gender\": {{\n",
    "            \"type\": \"string\",\n",
    "            \"enum\": [\"male\", \"female\", \"other\"]\n",
    "        }},\n",
    "        \"diagnosis\": {{\n",
    "            \"type\": \"string\",\n",
    "            \"enum\": [\"migraine\", \"diabetes\", \"arthritis\", \"acne\", \"common cold\"]\n",
    "        }},\n",
    "        \"weight\": {{\n",
    "            \"type\": \"integer\"\n",
    "        }},\n",
    "        \"smoking\": {{\n",
    "            \"type\": \"string\",\n",
    "            \"enum\": [\"yes\", \"no\"]\n",
    "        }},\n",
    "        \n",
    "}}\n",
    "\"\"\""
   ]
  },
  {
   "cell_type": "code",
   "execution_count": 5,
   "id": "99a5f4aa",
   "metadata": {},
   "outputs": [],
   "source": [
    "import json\n",
    "\n",
    "def compare_json_objects(obj1, obj2):\n",
    "    total_fields = 0\n",
    "    identical_fields = 0\n",
    "    common_keys = set(obj1.keys()) & set(obj2.keys())\n",
    "    for key in common_keys:\n",
    "        identical_fields += obj1[key] == obj2[key]\n",
    "    percentage_identical = (identical_fields / max(len(obj1.keys()), 1)) * 100\n",
    "    return percentage_identical"
   ]
  },
  {
   "cell_type": "code",
   "execution_count": 6,
   "id": "8eb2f033",
   "metadata": {},
   "outputs": [
    {
     "data": {
      "text/plain": [
       "100.0"
      ]
     },
     "execution_count": 6,
     "metadata": {},
     "output_type": "execute_result"
    }
   ],
   "source": [
    "accuracy_rates = []\n",
    "\n",
    "# for each test case\n",
    "for name in prompts:\n",
    "\n",
    "    # define user message\n",
    "    user_message = prompt_template.format(medical_notes=prompts[name][\"medical_notes\"])\n",
    "\n",
    "    # run LLM\n",
    "    response = json.loads(run_mistral(user_message))\n",
    "\n",
    "    # calculate accuracy rate for this test case\n",
    "    accuracy_rates.append(\n",
    "        compare_json_objects(response, prompts[name][\"golden_answer\"])\n",
    "    )\n",
    "\n",
    "# calculate accuracy rate across test cases\n",
    "sum(accuracy_rates) / len(accuracy_rates)"
   ]
  },
  {
   "cell_type": "markdown",
   "id": "18c587aa",
   "metadata": {},
   "source": [
    "## Another Mistral Use-case"
   ]
  },
  {
   "cell_type": "code",
   "execution_count": 7,
   "id": "bc752f2d",
   "metadata": {
    "_cell_guid": "b1076dfc-b9ad-4769-8c92-a6c4dae69d19",
    "_uuid": "8f2839f25d086af736a60e9eeb907d3b93b6e0e5"
   },
   "outputs": [
    {
     "name": "stdout",
     "output_type": "stream",
     "text": [
      "Requirement already satisfied: Pathlib in /Users/mattsalomon/miniconda3/lib/python3.10/site-packages (1.0.1)\n",
      "\u001b[33mWARNING: Ignoring invalid distribution -angchain-core (/Users/mattsalomon/miniconda3/envs/tensorflow/lib/python3.10/site-packages)\u001b[0m\u001b[33m\n",
      "\u001b[0m\u001b[33mWARNING: Ignoring invalid distribution -angchain-core (/Users/mattsalomon/miniconda3/envs/tensorflow/lib/python3.10/site-packages)\u001b[0m\u001b[33m\n",
      "\u001b[0mRequirement already satisfied: protobuf==3.20.0 in /Users/mattsalomon/miniconda3/envs/tensorflow/lib/python3.10/site-packages (3.20.0)\n",
      "\u001b[33mWARNING: Ignoring invalid distribution -angchain-core (/Users/mattsalomon/miniconda3/envs/tensorflow/lib/python3.10/site-packages)\u001b[0m\u001b[33m\n",
      "\u001b[0m\u001b[33mWARNING: Ignoring invalid distribution -angchain-core (/Users/mattsalomon/miniconda3/envs/tensorflow/lib/python3.10/site-packages)\u001b[0m\u001b[33m\n",
      "\u001b[0m\u001b[33mWARNING: Ignoring invalid distribution -angchain-core (/Users/mattsalomon/miniconda3/envs/tensorflow/lib/python3.10/site-packages)\u001b[0m\u001b[33m\n",
      "\u001b[0m\u001b[33mWARNING: Ignoring invalid distribution -angchain-core (/Users/mattsalomon/miniconda3/envs/tensorflow/lib/python3.10/site-packages)\u001b[0m\u001b[33m\n",
      "\u001b[0mNote: you may need to restart the kernel to use updated packages.\n"
     ]
    }
   ],
   "source": [
    "#!pip -q install langchain\n",
    "!pip -q install huggingface_hub\n",
    "!pip -q install  git+https://github.com/huggingface/transformers # need to install from github\n",
    "!pip -q install kor\n",
    "#!pip install pandas --upgrade\n",
    "!pip install Pathlib\n",
    "%pip install protobuf==3.20.0"
   ]
  },
  {
   "cell_type": "code",
   "execution_count": 8,
   "id": "d26f0046",
   "metadata": {
    "execution": {
     "iopub.execute_input": "2023-10-27T07:15:22.477327Z",
     "iopub.status.busy": "2023-10-27T07:15:22.477036Z",
     "iopub.status.idle": "2023-10-27T07:15:33.787893Z",
     "shell.execute_reply": "2023-10-27T07:15:33.786833Z",
     "shell.execute_reply.started": "2023-10-27T07:15:22.477300Z"
    }
   },
   "outputs": [
    {
     "name": "stdout",
     "output_type": "stream",
     "text": [
      "Name: langchain\n",
      "Version: 0.2.15\n",
      "Summary: Building applications with LLMs through composability\n",
      "Home-page: https://github.com/langchain-ai/langchain\n",
      "Author: \n",
      "Author-email: \n",
      "License: MIT\n",
      "Location: /Users/mattsalomon/miniconda3/lib/python3.10/site-packages\n",
      "Requires: aiohttp, async-timeout, langchain-core, langchain-text-splitters, langsmith, numpy, pydantic, PyYAML, requests, SQLAlchemy, tenacity\n",
      "Required-by: langchain-community\n"
     ]
    }
   ],
   "source": [
    "!pip show langchain"
   ]
  },
  {
   "cell_type": "code",
   "execution_count": 9,
   "id": "2a737e8c",
   "metadata": {
    "execution": {
     "iopub.execute_input": "2023-10-27T07:15:33.790245Z",
     "iopub.status.busy": "2023-10-27T07:15:33.789849Z",
     "iopub.status.idle": "2023-10-27T07:15:45.065086Z",
     "shell.execute_reply": "2023-10-27T07:15:45.063895Z",
     "shell.execute_reply.started": "2023-10-27T07:15:33.790210Z"
    }
   },
   "outputs": [
    {
     "name": "stdout",
     "output_type": "stream",
     "text": [
      "Name: kor\r\n",
      "Version: 2.0.0\r\n",
      "Summary: Extract information with LLMs from text\r\n",
      "Home-page: https://www.github.com/eyurtsev/kor\r\n",
      "Author: Eugene Yurtsev\r\n",
      "Author-email: eyurtsev@gmail.com\r\n",
      "License: MIT\r\n",
      "Location: /Users/mattsalomon/miniconda3/lib/python3.10/site-packages\r\n",
      "Requires: langchain-core, pandas, pydantic\r\n",
      "Required-by: \r\n"
     ]
    }
   ],
   "source": [
    "!pip show kor"
   ]
  },
  {
   "cell_type": "code",
   "execution_count": 10,
   "id": "3dfc5d75",
   "metadata": {},
   "outputs": [
    {
     "name": "stdout",
     "output_type": "stream",
     "text": [
      "Name: protobuf\r\n",
      "Version: 3.20.3\r\n",
      "Summary: Protocol Buffers\r\n",
      "Home-page: https://developers.google.com/protocol-buffers/\r\n",
      "Author: \r\n",
      "Author-email: \r\n",
      "License: BSD-3-Clause\r\n",
      "Location: /Users/mattsalomon/miniconda3/lib/python3.10/site-packages\r\n",
      "Requires: \r\n",
      "Required-by: googleapis-common-protos, onnxruntime, opentelemetry-proto, tensorboard, tensorflow, tensorflow-datasets, tensorflow-metadata\r\n"
     ]
    }
   ],
   "source": [
    "!pip show protobuf"
   ]
  },
  {
   "cell_type": "code",
   "execution_count": 11,
   "id": "05b6be90",
   "metadata": {
    "execution": {
     "iopub.execute_input": "2023-10-27T07:15:45.068810Z",
     "iopub.status.busy": "2023-10-27T07:15:45.068191Z",
     "iopub.status.idle": "2023-10-27T07:16:01.688143Z",
     "shell.execute_reply": "2023-10-27T07:16:01.687035Z",
     "shell.execute_reply.started": "2023-10-27T07:15:45.068771Z"
    }
   },
   "outputs": [],
   "source": [
    "import warnings\n",
    "warnings.filterwarnings(\"ignore\")\n",
    "\n",
    "import torch\n",
    "from dotenv import load_dotenv\n",
    "import os\n",
    "import textwrap\n",
    "import enum\n",
    "import re\n",
    "import numpy as np\n",
    "import pandas as pd\n",
    "from pathlib import Path\n",
    "from tqdm import tqdm\n",
    "\n",
    "from operator import itemgetter\n",
    "from typing import List, Union, Optional\n",
    "\n",
    "from transformers import AutoTokenizer, AutoModelForCausalLM, pipeline\n",
    "from transformers import GenerationConfig\n",
    "\n",
    "import langchain\n",
    "from langchain.schema.output_parser import StrOutputParser\n",
    "from langchain_core.prompts.prompt import PromptTemplate\n",
    "from langchain_core.prompts.chat import ChatPromptTemplate,SystemMessagePromptTemplate,AIMessagePromptTemplate,HumanMessagePromptTemplate\n",
    "from langchain.prompts import StringPromptTemplate\n",
    "\n",
    "from langchain import LLMChain\n",
    "from langchain.llms import HuggingFaceHub, HuggingFacePipeline\n",
    "from langchain.schema.runnable import ConfigurableField\n",
    "\n",
    "from kor.extraction import create_extraction_chain\n",
    "from kor.nodes import Object, Text, Number\n",
    "from pydantic import BaseModel, Field, validator\n",
    "from kor import extract_from_documents, from_pydantic\n",
    "\n",
    "from sklearn.metrics import accuracy_score, f1_score, precision_score, recall_score\n",
    "load_dotenv()\n",
    "pd.set_option('display.max_colwidth', 500)\n",
    "os.environ['HUGGINGFACEHUB_API_TOKEN'] = os.environ['hf_token']"
   ]
  },
  {
   "cell_type": "code",
   "execution_count": 12,
   "id": "25a469f6",
   "metadata": {},
   "outputs": [
    {
     "data": {
      "text/plain": [
       "'mps'"
      ]
     },
     "execution_count": 12,
     "metadata": {},
     "output_type": "execute_result"
    }
   ],
   "source": [
    "if torch.cuda.is_available():\n",
    "    device = \"cuda\"\n",
    "elif torch.backends.mps.is_available():\n",
    "    device = \"mps\"\n",
    "else:\n",
    "    device = \"cpu\"\n",
    "device"
   ]
  },
  {
   "cell_type": "code",
   "execution_count": 13,
   "id": "72c5675f",
   "metadata": {
    "execution": {
     "iopub.execute_input": "2023-10-27T07:16:01.690093Z",
     "iopub.status.busy": "2023-10-27T07:16:01.689367Z",
     "iopub.status.idle": "2023-10-27T07:16:01.722300Z",
     "shell.execute_reply": "2023-10-27T07:16:01.721356Z",
     "shell.execute_reply.started": "2023-10-27T07:16:01.690047Z"
    }
   },
   "outputs": [],
   "source": [
    "# device = 'cuda' if torch.cuda.is_available() else 'cpu'\n",
    "# print(device)"
   ]
  },
  {
   "cell_type": "markdown",
   "id": "4186f78e",
   "metadata": {},
   "source": [
    "## Load Dataset\n",
    "**Restaurant Reviews with following aspects**\n",
    "\n",
    "- Ambience\n",
    "- Anecdotes\n",
    "- Food\n",
    "- Price\n",
    "- Staff\n",
    "- Miscellaneous"
   ]
  },
  {
   "cell_type": "code",
   "execution_count": 14,
   "id": "e2c7569b",
   "metadata": {
    "execution": {
     "iopub.execute_input": "2023-10-27T07:16:01.724285Z",
     "iopub.status.busy": "2023-10-27T07:16:01.723686Z",
     "iopub.status.idle": "2023-10-27T07:16:01.737812Z",
     "shell.execute_reply": "2023-10-27T07:16:01.737037Z",
     "shell.execute_reply.started": "2023-10-27T07:16:01.724249Z"
    }
   },
   "outputs": [],
   "source": [
    "review_domain = 'restaurant'\n",
    "\n",
    "input_dir = Path(f'/Users/mattsalomon/Downloads/datasets/{review_domain}')\n",
    "data_dir = Path('/Users/mattsalomon/Downloads/datasets/')"
   ]
  },
  {
   "cell_type": "code",
   "execution_count": 15,
   "id": "98a5c5ad",
   "metadata": {
    "execution": {
     "iopub.execute_input": "2023-10-27T07:41:26.744006Z",
     "iopub.status.busy": "2023-10-27T07:41:26.743107Z",
     "iopub.status.idle": "2023-10-27T07:41:26.750111Z",
     "shell.execute_reply": "2023-10-27T07:41:26.749053Z",
     "shell.execute_reply.started": "2023-10-27T07:41:26.743973Z"
    }
   },
   "outputs": [],
   "source": [
    "def load_dataset(filename):\n",
    "    f = open(filename, 'r', encoding='utf-8')\n",
    "    all_reviews = f.readlines()\n",
    "    print('Total Reviews: ', len(all_reviews))\n",
    "    f.close()\n",
    "\n",
    "    sentences = []\n",
    "    for i,review in enumerate(all_reviews):\n",
    "        sentences.append(review.strip('\\n'))\n",
    "\n",
    "    col = 'labels' if 'test_label' in str(filename) else 'text_org'\n",
    "\n",
    "    df = pd.DataFrame({col:sentences})\n",
    "    return df"
   ]
  },
  {
   "cell_type": "code",
   "execution_count": 16,
   "id": "90177f5c",
   "metadata": {
    "execution": {
     "iopub.execute_input": "2023-10-27T07:55:57.371312Z",
     "iopub.status.busy": "2023-10-27T07:55:57.370465Z",
     "iopub.status.idle": "2023-10-27T07:55:57.449436Z",
     "shell.execute_reply": "2023-10-27T07:55:57.448402Z",
     "shell.execute_reply.started": "2023-10-27T07:55:57.371279Z"
    }
   },
   "outputs": [
    {
     "name": "stdout",
     "output_type": "stream",
     "text": [
      "Total Reviews:  3328\n",
      "(3328, 1)\n",
      "['Staff', 'Neutral', 'Ambience', 'Food', 'Miscellaneous', 'Anecdotes', 'Price', 'Positive']\n",
      "['Ambience', 'Anecdotes', 'Food', 'Miscellaneous', 'Price', 'Staff']\n",
      "(3315, 1)\n",
      "(3315, 7)\n"
     ]
    },
    {
     "data": {
      "text/html": [
       "<div>\n",
       "<style scoped>\n",
       "    .dataframe tbody tr th:only-of-type {\n",
       "        vertical-align: middle;\n",
       "    }\n",
       "\n",
       "    .dataframe tbody tr th {\n",
       "        vertical-align: top;\n",
       "    }\n",
       "\n",
       "    .dataframe thead th {\n",
       "        text-align: right;\n",
       "    }\n",
       "</style>\n",
       "<table border=\"1\" class=\"dataframe\">\n",
       "  <thead>\n",
       "    <tr style=\"text-align: right;\">\n",
       "      <th></th>\n",
       "      <th>labels</th>\n",
       "      <th>Ambience</th>\n",
       "      <th>Anecdotes</th>\n",
       "      <th>Food</th>\n",
       "      <th>Miscellaneous</th>\n",
       "      <th>Price</th>\n",
       "      <th>Staff</th>\n",
       "    </tr>\n",
       "  </thead>\n",
       "  <tbody>\n",
       "    <tr>\n",
       "      <th>0</th>\n",
       "      <td>Food Ambience</td>\n",
       "      <td>1</td>\n",
       "      <td>0</td>\n",
       "      <td>1</td>\n",
       "      <td>0</td>\n",
       "      <td>0</td>\n",
       "      <td>0</td>\n",
       "    </tr>\n",
       "    <tr>\n",
       "      <th>1</th>\n",
       "      <td>Staff</td>\n",
       "      <td>0</td>\n",
       "      <td>0</td>\n",
       "      <td>0</td>\n",
       "      <td>0</td>\n",
       "      <td>0</td>\n",
       "      <td>1</td>\n",
       "    </tr>\n",
       "    <tr>\n",
       "      <th>2</th>\n",
       "      <td>Ambience</td>\n",
       "      <td>1</td>\n",
       "      <td>0</td>\n",
       "      <td>0</td>\n",
       "      <td>0</td>\n",
       "      <td>0</td>\n",
       "      <td>0</td>\n",
       "    </tr>\n",
       "    <tr>\n",
       "      <th>3</th>\n",
       "      <td>Miscellaneous</td>\n",
       "      <td>0</td>\n",
       "      <td>0</td>\n",
       "      <td>0</td>\n",
       "      <td>1</td>\n",
       "      <td>0</td>\n",
       "      <td>0</td>\n",
       "    </tr>\n",
       "    <tr>\n",
       "      <th>4</th>\n",
       "      <td>Miscellaneous</td>\n",
       "      <td>0</td>\n",
       "      <td>0</td>\n",
       "      <td>0</td>\n",
       "      <td>1</td>\n",
       "      <td>0</td>\n",
       "      <td>0</td>\n",
       "    </tr>\n",
       "  </tbody>\n",
       "</table>\n",
       "</div>"
      ],
      "text/plain": [
       "          labels  Ambience  Anecdotes  Food  Miscellaneous  Price  Staff\n",
       "0  Food Ambience         1          0     1              0      0      0\n",
       "1          Staff         0          0     0              0      0      1\n",
       "2       Ambience         1          0     0              0      0      0\n",
       "3  Miscellaneous         0          0     0              1      0      0\n",
       "4  Miscellaneous         0          0     0              1      0      0"
      ]
     },
     "execution_count": 16,
     "metadata": {},
     "output_type": "execute_result"
    }
   ],
   "source": [
    "df_label = load_dataset(input_dir/'test_label.txt')\n",
    "print(df_label.shape)\n",
    "\n",
    "all_labels = list(set(df_label['labels'].str.split(' ').sum()))\n",
    "print(all_labels)\n",
    "drop_labels = ['Positive', 'Neutral']\n",
    "all_labels = sorted([label for label in all_labels if label not in drop_labels])\n",
    "\n",
    "drop_index = pd.Series(False, index=df_label.index)\n",
    "for label in drop_labels:\n",
    "    drop_index = drop_index | df_label['labels'].str.contains(label)\n",
    "    \n",
    "print(all_labels)\n",
    "\n",
    "df_label = df_label[~drop_index].copy()\n",
    "print(df_label.shape)\n",
    "\n",
    "for label in all_labels:\n",
    "    df_label[label] = np.where(df_label['labels'].str.contains(label), 1, 0)\n",
    "print(df_label.shape)\n",
    "\n",
    "df_label.head()"
   ]
  },
  {
   "cell_type": "code",
   "execution_count": 17,
   "id": "7c14a07f",
   "metadata": {
    "execution": {
     "iopub.execute_input": "2023-10-27T07:56:31.680350Z",
     "iopub.status.busy": "2023-10-27T07:56:31.679304Z",
     "iopub.status.idle": "2023-10-27T07:56:31.705594Z",
     "shell.execute_reply": "2023-10-27T07:56:31.704434Z",
     "shell.execute_reply.started": "2023-10-27T07:56:31.680307Z"
    }
   },
   "outputs": [
    {
     "name": "stdout",
     "output_type": "stream",
     "text": [
      "Total Reviews:  3328\n",
      "(3328, 1)\n",
      "(3315, 1)\n"
     ]
    },
    {
     "data": {
      "text/html": [
       "<div>\n",
       "<style scoped>\n",
       "    .dataframe tbody tr th:only-of-type {\n",
       "        vertical-align: middle;\n",
       "    }\n",
       "\n",
       "    .dataframe tbody tr th {\n",
       "        vertical-align: top;\n",
       "    }\n",
       "\n",
       "    .dataframe thead th {\n",
       "        text-align: right;\n",
       "    }\n",
       "</style>\n",
       "<table border=\"1\" class=\"dataframe\">\n",
       "  <thead>\n",
       "    <tr style=\"text-align: right;\">\n",
       "      <th></th>\n",
       "      <th>text_org</th>\n",
       "      <th>labels</th>\n",
       "      <th>Ambience</th>\n",
       "      <th>Anecdotes</th>\n",
       "      <th>Food</th>\n",
       "      <th>Miscellaneous</th>\n",
       "      <th>Price</th>\n",
       "      <th>Staff</th>\n",
       "    </tr>\n",
       "  </thead>\n",
       "  <tbody>\n",
       "    <tr>\n",
       "      <th>0</th>\n",
       "      <td>Always a fun place ... the food is deeelish !</td>\n",
       "      <td>Food Ambience</td>\n",
       "      <td>1</td>\n",
       "      <td>0</td>\n",
       "      <td>1</td>\n",
       "      <td>0</td>\n",
       "      <td>0</td>\n",
       "      <td>0</td>\n",
       "    </tr>\n",
       "    <tr>\n",
       "      <th>1</th>\n",
       "      <td>The staff is n't the friendliest or most competent , and I am stickler for service , but everything else about this place makes up for it .</td>\n",
       "      <td>Staff</td>\n",
       "      <td>0</td>\n",
       "      <td>0</td>\n",
       "      <td>0</td>\n",
       "      <td>0</td>\n",
       "      <td>0</td>\n",
       "      <td>1</td>\n",
       "    </tr>\n",
       "    <tr>\n",
       "      <th>2</th>\n",
       "      <td>Great for groups , great for a date , great for early brunch or a nightcap .</td>\n",
       "      <td>Ambience</td>\n",
       "      <td>1</td>\n",
       "      <td>0</td>\n",
       "      <td>0</td>\n",
       "      <td>0</td>\n",
       "      <td>0</td>\n",
       "      <td>0</td>\n",
       "    </tr>\n",
       "    <tr>\n",
       "      <th>3</th>\n",
       "      <td>Another great place to take out-of-towners !</td>\n",
       "      <td>Miscellaneous</td>\n",
       "      <td>0</td>\n",
       "      <td>0</td>\n",
       "      <td>0</td>\n",
       "      <td>1</td>\n",
       "      <td>0</td>\n",
       "      <td>0</td>\n",
       "    </tr>\n",
       "    <tr>\n",
       "      <th>4</th>\n",
       "      <td>: )</td>\n",
       "      <td>Miscellaneous</td>\n",
       "      <td>0</td>\n",
       "      <td>0</td>\n",
       "      <td>0</td>\n",
       "      <td>1</td>\n",
       "      <td>0</td>\n",
       "      <td>0</td>\n",
       "    </tr>\n",
       "  </tbody>\n",
       "</table>\n",
       "</div>"
      ],
      "text/plain": [
       "                                                                                                                                        text_org  \\\n",
       "0                                                                                                 Always a fun place ... the food is deeelish !    \n",
       "1   The staff is n't the friendliest or most competent , and I am stickler for service , but everything else about this place makes up for it .    \n",
       "2                                                                  Great for groups , great for a date , great for early brunch or a nightcap .    \n",
       "3                                                                                                  Another great place to take out-of-towners !    \n",
       "4                                                                                                                                           : )    \n",
       "\n",
       "          labels  Ambience  Anecdotes  Food  Miscellaneous  Price  Staff  \n",
       "0  Food Ambience         1          0     1              0      0      0  \n",
       "1          Staff         0          0     0              0      0      1  \n",
       "2       Ambience         1          0     0              0      0      0  \n",
       "3  Miscellaneous         0          0     0              1      0      0  \n",
       "4  Miscellaneous         0          0     0              1      0      0  "
      ]
     },
     "execution_count": 17,
     "metadata": {},
     "output_type": "execute_result"
    }
   ],
   "source": [
    "df = load_dataset(input_dir/'test.txt')\n",
    "print(df.shape)\n",
    "\n",
    "df = df[~drop_index].copy()\n",
    "print(df.shape)\n",
    "\n",
    "df = pd.concat([df, df_label], axis=1)\n",
    "\n",
    "df.head()"
   ]
  },
  {
   "cell_type": "code",
   "execution_count": 18,
   "id": "a7211ddc",
   "metadata": {
    "execution": {
     "iopub.execute_input": "2023-10-27T12:21:57.973950Z",
     "iopub.status.busy": "2023-10-27T12:21:57.973576Z",
     "iopub.status.idle": "2023-10-27T12:21:57.983327Z",
     "shell.execute_reply": "2023-10-27T12:21:57.982344Z",
     "shell.execute_reply.started": "2023-10-27T12:21:57.973919Z"
    }
   },
   "outputs": [
    {
     "data": {
      "text/plain": [
       "Ambience         0.113424\n",
       "Anecdotes        0.129412\n",
       "Food             0.370136\n",
       "Miscellaneous    0.276621\n",
       "Price            0.089894\n",
       "Staff            0.166817\n",
       "dtype: float64"
      ]
     },
     "execution_count": 18,
     "metadata": {},
     "output_type": "execute_result"
    }
   ],
   "source": [
    "df[all_labels].mean()"
   ]
  },
  {
   "cell_type": "markdown",
   "id": "adb4ada6",
   "metadata": {},
   "source": [
    "## Setup LLM: Google T5-Base"
   ]
  },
  {
   "cell_type": "code",
   "execution_count": 19,
   "id": "b8e65d10",
   "metadata": {},
   "outputs": [],
   "source": [
    "# !pip install transformers==4.20\n",
    "# %pip install sentencepiece\n"
   ]
  },
  {
   "cell_type": "code",
   "execution_count": 62,
   "id": "07641c7a",
   "metadata": {},
   "outputs": [
    {
     "data": {
      "application/vnd.jupyter.widget-view+json": {
       "model_id": "2a67b09e204a4f55b85fb6cfab819d71",
       "version_major": 2,
       "version_minor": 0
      },
      "text/plain": [
       "config.json:   0%|          | 0.00/665 [00:00<?, ?B/s]"
      ]
     },
     "metadata": {},
     "output_type": "display_data"
    },
    {
     "data": {
      "application/vnd.jupyter.widget-view+json": {
       "model_id": "dc488771ca254936b65904d1e8d6eacf",
       "version_major": 2,
       "version_minor": 0
      },
      "text/plain": [
       "model.safetensors:   0%|          | 0.00/548M [00:00<?, ?B/s]"
      ]
     },
     "metadata": {},
     "output_type": "display_data"
    },
    {
     "data": {
      "application/vnd.jupyter.widget-view+json": {
       "model_id": "0df3abc357714ee89d69396f61253bae",
       "version_major": 2,
       "version_minor": 0
      },
      "text/plain": [
       "generation_config.json:   0%|          | 0.00/124 [00:00<?, ?B/s]"
      ]
     },
     "metadata": {},
     "output_type": "display_data"
    },
    {
     "data": {
      "application/vnd.jupyter.widget-view+json": {
       "model_id": "fa4ed6bff1f24c908248b276acfbf7b3",
       "version_major": 2,
       "version_minor": 0
      },
      "text/plain": [
       "tokenizer_config.json:   0%|          | 0.00/26.0 [00:00<?, ?B/s]"
      ]
     },
     "metadata": {},
     "output_type": "display_data"
    },
    {
     "data": {
      "application/vnd.jupyter.widget-view+json": {
       "model_id": "4aa85bbb85be4f6589001931a065e7bd",
       "version_major": 2,
       "version_minor": 0
      },
      "text/plain": [
       "vocab.json:   0%|          | 0.00/1.04M [00:00<?, ?B/s]"
      ]
     },
     "metadata": {},
     "output_type": "display_data"
    },
    {
     "data": {
      "application/vnd.jupyter.widget-view+json": {
       "model_id": "35c049fe57e24ffe9f3265eccbda66ba",
       "version_major": 2,
       "version_minor": 0
      },
      "text/plain": [
       "merges.txt:   0%|          | 0.00/456k [00:00<?, ?B/s]"
      ]
     },
     "metadata": {},
     "output_type": "display_data"
    },
    {
     "data": {
      "application/vnd.jupyter.widget-view+json": {
       "model_id": "4c91c2ab0ef8416fb9dec75c5d4c0acf",
       "version_major": 2,
       "version_minor": 0
      },
      "text/plain": [
       "tokenizer.json:   0%|          | 0.00/1.36M [00:00<?, ?B/s]"
      ]
     },
     "metadata": {},
     "output_type": "display_data"
    }
   ],
   "source": [
    "# repo_id = 'distilbert/distilgpt2'\n",
    "repo_id = 'openai-community/gpt2'\n",
    "model = AutoModelForCausalLM.from_pretrained(repo_id, torch_dtype=\"auto\",low_cpu_mem_usage=True)\n",
    "tokenizer = AutoTokenizer.from_pretrained(repo_id, torch_dtype=\"auto\",low_cpu_mem_usage=True)"
   ]
  },
  {
   "cell_type": "code",
   "execution_count": 63,
   "id": "61332916",
   "metadata": {},
   "outputs": [],
   "source": [
    "# Load model directly\n",
    "# from transformers import AutoTokenizer, AutoModelForSeq2SeqLM\n",
    "# repo_id = 'google-t5/t5-base'\n",
    "# tokenizer = AutoTokenizer.from_pretrained(\"google-t5/t5-base\")\n",
    "# model = AutoModelForSeq2SeqLM.from_pretrained(\"google-t5/t5-base\")"
   ]
  },
  {
   "cell_type": "code",
   "execution_count": 64,
   "id": "625a31b4",
   "metadata": {
    "execution": {
     "iopub.execute_input": "2023-10-27T08:30:24.280917Z",
     "iopub.status.busy": "2023-10-27T08:30:24.280194Z",
     "iopub.status.idle": "2023-10-27T08:30:24.293282Z",
     "shell.execute_reply": "2023-10-27T08:30:24.292246Z",
     "shell.execute_reply.started": "2023-10-27T08:30:24.280881Z"
    }
   },
   "outputs": [],
   "source": [
    "pipe = pipeline(\n",
    "    \"text-generation\",\n",
    "    model=model, \n",
    "    tokenizer=tokenizer, \n",
    "    max_new_tokens = 50,\n",
    "    device=device,\n",
    "    pad_token_id=tokenizer.eos_token_id,\n",
    "    temperature=0.01,\n",
    ")\n",
    "\n",
    "llm = HuggingFacePipeline(pipeline=pipe)"
   ]
  },
  {
   "cell_type": "code",
   "execution_count": 65,
   "id": "79f9e368",
   "metadata": {},
   "outputs": [
    {
     "data": {
      "text/plain": [
       "HuggingFacePipeline(pipeline=<transformers.pipelines.text_generation.TextGenerationPipeline object at 0x3c43b93c0>)"
      ]
     },
     "execution_count": 65,
     "metadata": {},
     "output_type": "execute_result"
    }
   ],
   "source": [
    "llm"
   ]
  },
  {
   "cell_type": "markdown",
   "id": "03326b2c",
   "metadata": {},
   "source": [
    "## Setup Aspect Extractor"
   ]
  },
  {
   "cell_type": "code",
   "execution_count": 66,
   "id": "beb3fa9d",
   "metadata": {
    "execution": {
     "iopub.execute_input": "2023-10-27T08:30:28.535279Z",
     "iopub.status.busy": "2023-10-27T08:30:28.534949Z",
     "iopub.status.idle": "2023-10-27T08:30:28.544042Z",
     "shell.execute_reply": "2023-10-27T08:30:28.542973Z",
     "shell.execute_reply.started": "2023-10-27T08:30:28.535254Z"
    }
   },
   "outputs": [],
   "source": [
    "class Aspects(enum.Enum):\n",
    "    staff = \"Staff\"\n",
    "    ambience = \"Ambience\"\n",
    "    anecdotes = \"Anecdotes\"\n",
    "    food = \"Food\"\n",
    "    price = 'Price'\n",
    "    miscellaneous = 'Miscellaneous'\n",
    "    \n",
    "class ReviewABSA(BaseModel):\n",
    "    aspect: List[Aspects] = Field(\n",
    "        description=f\"The key features that customers are talking about in their {review_domain} reviews.\",\n",
    "        examples=[\n",
    "            (\"The Singapore Mai Fun had NO curry flavor whatsoever.\", \"Food\"),\n",
    "            (\"Go for it !\", \"Miscellaneous\"),\n",
    "            (\"While the staff at this little bistro is very friendly , I have never experienced more incompetency.\", \"Staff\"),\n",
    "            (\"Went on a double date with friend and his girlfriend for a few drinks and appetizers .\", \"Anecdotes\"),\n",
    "            (\"When you enter , you feel like you have entered your mom 's kitchen .\", \"Ambience\"),\n",
    "            (\"Pricey , but worth a try , at least once .\", \"Price\")\n",
    "        ],\n",
    "        many=True,\n",
    "    )"
   ]
  },
  {
   "cell_type": "code",
   "execution_count": 67,
   "id": "909027b8",
   "metadata": {
    "execution": {
     "iopub.execute_input": "2023-10-27T08:30:29.925951Z",
     "iopub.status.busy": "2023-10-27T08:30:29.925295Z",
     "iopub.status.idle": "2023-10-27T08:30:29.930859Z",
     "shell.execute_reply": "2023-10-27T08:30:29.929936Z",
     "shell.execute_reply.started": "2023-10-27T08:30:29.925918Z"
    }
   },
   "outputs": [],
   "source": [
    "instruction_template = PromptTemplate(\n",
    "    input_variables=[\"format_instructions\", \"type_description\"],\n",
    "    template=(\n",
    "        \"<|im_start|>system\\nYour goal is to extract structured information from the user's input that matches the form described below. When extracting information please make sure it matches the type information exactly. Do not add any attributes that do not appear in the schema shown below.\\n\\n\"\n",
    "        \"{type_description}\\n<|im_end|>\\n<|im_start|>user\\n{format_instructions}\\n\"\n",
    "    ),\n",
    ")"
   ]
  },
  {
   "cell_type": "code",
   "execution_count": 68,
   "id": "f3ff8bc5",
   "metadata": {
    "execution": {
     "iopub.execute_input": "2023-10-27T08:30:30.185550Z",
     "iopub.status.busy": "2023-10-27T08:30:30.184709Z",
     "iopub.status.idle": "2023-10-27T08:30:30.191030Z",
     "shell.execute_reply": "2023-10-27T08:30:30.190072Z",
     "shell.execute_reply.started": "2023-10-27T08:30:30.185515Z"
    }
   },
   "outputs": [],
   "source": [
    "#from langchain.chains import create_extraction_chain\n",
    "schema, validator = from_pydantic(ReviewABSA)   \n",
    "chain = create_extraction_chain(\n",
    "    llm, schema, validator=validator, \n",
    "    encoder_or_encoder_class=\"json\",\n",
    "    instruction_template=instruction_template\n",
    ")"
   ]
  },
  {
   "cell_type": "code",
   "execution_count": 69,
   "id": "d759669d",
   "metadata": {},
   "outputs": [
    {
     "name": "stdout",
     "output_type": "stream",
     "text": [
      "<|im_start|>system\n",
      "Your goal is to extract structured information from the user's input that matches the form described below. When extracting information please make sure it matches the type information exactly. Do not add any attributes that do not appear in the schema shown below.\n",
      "\n",
      "```TypeScript\n",
      "\n",
      "reviewabsa: { // \n",
      " aspect: Array<\"Staff\" | \"Ambience\" | \"Anecdotes\" | \"Food\" | \"Price\" | \"Miscellaneous\"> // The key features that customers are talking about in their restaurant reviews.\n",
      "}\n",
      "```\n",
      "\n",
      "<|im_end|>\n",
      "<|im_start|>user\n",
      "Please output the extracted information in JSON format. Do not output anything except for the extracted information. Do not add any clarifying information. Do not add any fields that are not in the schema. If the text contains attributes that do not appear in the schema, please ignore them. All output must be in JSON format and follow the schema specified above. Wrap the JSON in <json> tags.\n",
      "\n",
      "\n",
      "Input: The Singapore Mai Fun had NO curry flavor whatsoever.\n",
      "Output: <json>{\"reviewabsa\": {\"aspect\": [\"Food\"]}}</json>\n",
      "Input: Go for it !\n",
      "Output: <json>{\"reviewabsa\": {\"aspect\": [\"Miscellaneous\"]}}</json>\n",
      "Input: While the staff at this little bistro is very friendly , I have never experienced more incompetency.\n",
      "Output: <json>{\"reviewabsa\": {\"aspect\": [\"Staff\"]}}</json>\n",
      "Input: Went on a double date with friend and his girlfriend for a few drinks and appetizers .\n",
      "Output: <json>{\"reviewabsa\": {\"aspect\": [\"Anecdotes\"]}}</json>\n",
      "Input: When you enter , you feel like you have entered your mom 's kitchen .\n",
      "Output: <json>{\"reviewabsa\": {\"aspect\": [\"Ambience\"]}}</json>\n",
      "Input: Pricey , but worth a try , at least once .\n",
      "Output: <json>{\"reviewabsa\": {\"aspect\": [\"Price\"]}}</json>\n",
      "Input: [user input]\n",
      "Output:\n"
     ]
    }
   ],
   "source": [
    "print(chain.get_prompts()[0].format_prompt(text=\"[user input]\").to_string())"
   ]
  },
  {
   "cell_type": "code",
   "execution_count": 70,
   "id": "7797afb3",
   "metadata": {
    "execution": {
     "iopub.execute_input": "2023-10-27T08:30:31.294094Z",
     "iopub.status.busy": "2023-10-27T08:30:31.293411Z",
     "iopub.status.idle": "2023-10-27T08:30:31.299690Z",
     "shell.execute_reply": "2023-10-27T08:30:31.298662Z",
     "shell.execute_reply.started": "2023-10-27T08:30:31.294063Z"
    }
   },
   "outputs": [],
   "source": [
    "#print(chain.prompt.format_prompt(text=\"[user input]\").to_string())"
   ]
  },
  {
   "cell_type": "markdown",
   "id": "0c96ef83",
   "metadata": {},
   "source": [
    "## Aspect Extraction"
   ]
  },
  {
   "cell_type": "code",
   "execution_count": 71,
   "id": "8308b08b",
   "metadata": {
    "execution": {
     "iopub.execute_input": "2023-10-27T08:30:33.994838Z",
     "iopub.status.busy": "2023-10-27T08:30:33.994408Z",
     "iopub.status.idle": "2023-10-27T12:00:03.619115Z",
     "shell.execute_reply": "2023-10-27T12:00:03.618132Z",
     "shell.execute_reply.started": "2023-10-27T08:30:33.994808Z"
    }
   },
   "outputs": [
    {
     "name": "stderr",
     "output_type": "stream",
     "text": [
      "100%|█████████████████████████████████████████| 100/100 [06:32<00:00,  3.92s/it]"
     ]
    },
    {
     "name": "stdout",
     "output_type": "stream",
     "text": [
      "CPU times: user 6min, sys: 31.1 s, total: 6min 31s\n",
      "Wall time: 6min 32s\n"
     ]
    },
    {
     "name": "stderr",
     "output_type": "stream",
     "text": [
      "\n"
     ]
    },
    {
     "data": {
      "text/plain": [
       "(100, 100, 100)"
      ]
     },
     "execution_count": 71,
     "metadata": {},
     "output_type": "execute_result"
    }
   ],
   "source": [
    "%%time\n",
    "sample = 100\n",
    "reviews = df['text_org'].values.tolist()\n",
    "reviews_sampled=reviews[0:sample]\n",
    "responses = []\n",
    "aspects = []\n",
    "    \n",
    "for text in tqdm(reviews_sampled):\n",
    "    response = chain.invoke(input=text+'<|im_end|>\\n')\n",
    "    responses.append(response)\n",
    "    aspects.append(response['data']['reviewabsa']['aspect'] if len(response['data'].keys())>0 \n",
    "                   else ['Miscellaneous'])\n",
    "\n",
    "\n",
    "all_labels_sampled=all_labels[0:sample]\n",
    "aspects_sampled=aspects[0:sample]\n",
    "\n",
    "len(reviews_sampled), len(responses), len(aspects)"
   ]
  },
  {
   "cell_type": "code",
   "execution_count": 72,
   "id": "dba529f0",
   "metadata": {
    "execution": {
     "iopub.execute_input": "2023-10-27T12:10:37.587212Z",
     "iopub.status.busy": "2023-10-27T12:10:37.586564Z",
     "iopub.status.idle": "2023-10-27T12:10:37.615888Z",
     "shell.execute_reply": "2023-10-27T12:10:37.614987Z",
     "shell.execute_reply.started": "2023-10-27T12:10:37.587179Z"
    }
   },
   "outputs": [
    {
     "name": "stdout",
     "output_type": "stream",
     "text": [
      "(100, 7)\n"
     ]
    }
   ],
   "source": [
    "df_test_pred = pd.DataFrame(columns=[f'predicted_{label}' for label in all_labels_sampled])\n",
    "df_test_pred['predicted_labels'] = [' '.join(aspect) for aspect in aspects_sampled]\n",
    "for label in all_labels_sampled:\n",
    "    df_test_pred[f'predicted_{label}'] = np.where(df_test_pred['predicted_labels'].str.contains(label), 1, 0)\n",
    "df_test_pred.index = df.iloc[0:sample].index\n",
    "print(df_test_pred.shape)"
   ]
  },
  {
   "cell_type": "markdown",
   "id": "267b86f0",
   "metadata": {},
   "source": [
    "## Evaluate Results"
   ]
  },
  {
   "cell_type": "code",
   "execution_count": 73,
   "id": "6789c790",
   "metadata": {
    "execution": {
     "iopub.execute_input": "2023-10-27T12:10:42.818374Z",
     "iopub.status.busy": "2023-10-27T12:10:42.817897Z",
     "iopub.status.idle": "2023-10-27T12:10:42.838924Z",
     "shell.execute_reply": "2023-10-27T12:10:42.837791Z",
     "shell.execute_reply.started": "2023-10-27T12:10:42.818335Z"
    }
   },
   "outputs": [
    {
     "name": "stdout",
     "output_type": "stream",
     "text": [
      "(100, 15)\n"
     ]
    },
    {
     "data": {
      "text/html": [
       "<div>\n",
       "<style scoped>\n",
       "    .dataframe tbody tr th:only-of-type {\n",
       "        vertical-align: middle;\n",
       "    }\n",
       "\n",
       "    .dataframe tbody tr th {\n",
       "        vertical-align: top;\n",
       "    }\n",
       "\n",
       "    .dataframe thead th {\n",
       "        text-align: right;\n",
       "    }\n",
       "</style>\n",
       "<table border=\"1\" class=\"dataframe\">\n",
       "  <thead>\n",
       "    <tr style=\"text-align: right;\">\n",
       "      <th></th>\n",
       "      <th>text_org</th>\n",
       "      <th>labels</th>\n",
       "      <th>predicted_labels</th>\n",
       "      <th>Ambience</th>\n",
       "      <th>Anecdotes</th>\n",
       "      <th>Food</th>\n",
       "      <th>Miscellaneous</th>\n",
       "      <th>Price</th>\n",
       "      <th>Staff</th>\n",
       "      <th>predicted_Ambience</th>\n",
       "      <th>predicted_Anecdotes</th>\n",
       "      <th>predicted_Food</th>\n",
       "      <th>predicted_Miscellaneous</th>\n",
       "      <th>predicted_Price</th>\n",
       "      <th>predicted_Staff</th>\n",
       "    </tr>\n",
       "  </thead>\n",
       "  <tbody>\n",
       "    <tr>\n",
       "      <th>0</th>\n",
       "      <td>Always a fun place ... the food is deeelish !</td>\n",
       "      <td>Food Ambience</td>\n",
       "      <td>Ambience</td>\n",
       "      <td>1</td>\n",
       "      <td>0</td>\n",
       "      <td>1</td>\n",
       "      <td>0</td>\n",
       "      <td>0</td>\n",
       "      <td>0</td>\n",
       "      <td>1</td>\n",
       "      <td>0</td>\n",
       "      <td>0</td>\n",
       "      <td>0</td>\n",
       "      <td>0</td>\n",
       "      <td>0</td>\n",
       "    </tr>\n",
       "    <tr>\n",
       "      <th>1</th>\n",
       "      <td>The staff is n't the friendliest or most competent , and I am stickler for service , but everything else about this place makes up for it .</td>\n",
       "      <td>Staff</td>\n",
       "      <td>Ambience</td>\n",
       "      <td>0</td>\n",
       "      <td>0</td>\n",
       "      <td>0</td>\n",
       "      <td>0</td>\n",
       "      <td>0</td>\n",
       "      <td>1</td>\n",
       "      <td>1</td>\n",
       "      <td>0</td>\n",
       "      <td>0</td>\n",
       "      <td>0</td>\n",
       "      <td>0</td>\n",
       "      <td>0</td>\n",
       "    </tr>\n",
       "    <tr>\n",
       "      <th>2</th>\n",
       "      <td>Great for groups , great for a date , great for early brunch or a nightcap .</td>\n",
       "      <td>Ambience</td>\n",
       "      <td>Ambience</td>\n",
       "      <td>1</td>\n",
       "      <td>0</td>\n",
       "      <td>0</td>\n",
       "      <td>0</td>\n",
       "      <td>0</td>\n",
       "      <td>0</td>\n",
       "      <td>1</td>\n",
       "      <td>0</td>\n",
       "      <td>0</td>\n",
       "      <td>0</td>\n",
       "      <td>0</td>\n",
       "      <td>0</td>\n",
       "    </tr>\n",
       "    <tr>\n",
       "      <th>3</th>\n",
       "      <td>Another great place to take out-of-towners !</td>\n",
       "      <td>Miscellaneous</td>\n",
       "      <td>Ambience</td>\n",
       "      <td>0</td>\n",
       "      <td>0</td>\n",
       "      <td>0</td>\n",
       "      <td>1</td>\n",
       "      <td>0</td>\n",
       "      <td>0</td>\n",
       "      <td>1</td>\n",
       "      <td>0</td>\n",
       "      <td>0</td>\n",
       "      <td>0</td>\n",
       "      <td>0</td>\n",
       "      <td>0</td>\n",
       "    </tr>\n",
       "    <tr>\n",
       "      <th>4</th>\n",
       "      <td>: )</td>\n",
       "      <td>Miscellaneous</td>\n",
       "      <td>Miscellaneous</td>\n",
       "      <td>0</td>\n",
       "      <td>0</td>\n",
       "      <td>0</td>\n",
       "      <td>1</td>\n",
       "      <td>0</td>\n",
       "      <td>0</td>\n",
       "      <td>0</td>\n",
       "      <td>0</td>\n",
       "      <td>0</td>\n",
       "      <td>1</td>\n",
       "      <td>0</td>\n",
       "      <td>0</td>\n",
       "    </tr>\n",
       "  </tbody>\n",
       "</table>\n",
       "</div>"
      ],
      "text/plain": [
       "                                                                                                                                        text_org  \\\n",
       "0                                                                                                 Always a fun place ... the food is deeelish !    \n",
       "1   The staff is n't the friendliest or most competent , and I am stickler for service , but everything else about this place makes up for it .    \n",
       "2                                                                  Great for groups , great for a date , great for early brunch or a nightcap .    \n",
       "3                                                                                                  Another great place to take out-of-towners !    \n",
       "4                                                                                                                                           : )    \n",
       "\n",
       "          labels predicted_labels  Ambience  Anecdotes  Food  Miscellaneous  \\\n",
       "0  Food Ambience         Ambience         1          0     1              0   \n",
       "1          Staff         Ambience         0          0     0              0   \n",
       "2       Ambience         Ambience         1          0     0              0   \n",
       "3  Miscellaneous         Ambience         0          0     0              1   \n",
       "4  Miscellaneous    Miscellaneous         0          0     0              1   \n",
       "\n",
       "   Price  Staff  predicted_Ambience  predicted_Anecdotes  predicted_Food  \\\n",
       "0      0      0                   1                    0               0   \n",
       "1      0      1                   1                    0               0   \n",
       "2      0      0                   1                    0               0   \n",
       "3      0      0                   1                    0               0   \n",
       "4      0      0                   0                    0               0   \n",
       "\n",
       "   predicted_Miscellaneous  predicted_Price  predicted_Staff  \n",
       "0                        0                0                0  \n",
       "1                        0                0                0  \n",
       "2                        0                0                0  \n",
       "3                        0                0                0  \n",
       "4                        1                0                0  "
      ]
     },
     "execution_count": 73,
     "metadata": {},
     "output_type": "execute_result"
    }
   ],
   "source": [
    "df_final = pd.concat([df.iloc[0:sample], df_test_pred], axis=1)\n",
    "print(df_final.shape)\n",
    "df_final = df_final[['text_org', 'labels', 'predicted_labels']+all_labels_sampled+[f'predicted_{label}' for label in all_labels_sampled]] \n",
    "df_final.head()"
   ]
  },
  {
   "cell_type": "code",
   "execution_count": 74,
   "id": "b33e6c52",
   "metadata": {
    "execution": {
     "iopub.execute_input": "2023-10-27T12:14:07.693994Z",
     "iopub.status.busy": "2023-10-27T12:14:07.693646Z",
     "iopub.status.idle": "2023-10-27T12:14:07.738635Z",
     "shell.execute_reply": "2023-10-27T12:14:07.737741Z",
     "shell.execute_reply.started": "2023-10-27T12:14:07.693968Z"
    }
   },
   "outputs": [
    {
     "name": "stdout",
     "output_type": "stream",
     "text": [
      "Label:  Ambience\n",
      "Accuracy:  0.26\n",
      "F1 Score:  0.302\n",
      "Precision:  0.18\n",
      "Recall:  0.941\n",
      "***************\n",
      "Label:  Food\n",
      "Accuracy:  0.76\n",
      "F1 Score:  0.0\n",
      "Precision:  0.0\n",
      "Recall:  0.0\n",
      "***************\n",
      "Label:  Price\n",
      "Accuracy:  0.97\n",
      "F1 Score:  0.0\n",
      "Precision:  0.0\n",
      "Recall:  0.0\n",
      "***************\n",
      "Label:  Staff\n",
      "Accuracy:  0.81\n",
      "F1 Score:  0.0\n",
      "Precision:  0.0\n",
      "Recall:  0.0\n",
      "***************\n"
     ]
    }
   ],
   "source": [
    "interested_labels = ['Ambience', 'Food', 'Price', 'Staff']\n",
    "for label in interested_labels:\n",
    "    print('Label: ', label)\n",
    "    y_true = df_final[label]\n",
    "    y_pred = df_final[f'predicted_{label}']\n",
    "    print('Accuracy: ', np.round(accuracy_score(y_true, y_pred),3))\n",
    "    print('F1 Score: ', np.round(f1_score(y_true, y_pred),3))\n",
    "    print('Precision: ', np.round(precision_score(y_true, y_pred),3))\n",
    "    print('Recall: ', np.round(recall_score(y_true, y_pred),3))\n",
    "    print('***************')"
   ]
  },
  {
   "cell_type": "code",
   "execution_count": 75,
   "id": "446def58",
   "metadata": {
    "execution": {
     "iopub.execute_input": "2023-10-27T12:19:46.090310Z",
     "iopub.status.busy": "2023-10-27T12:19:46.089552Z",
     "iopub.status.idle": "2023-10-27T12:19:46.117354Z",
     "shell.execute_reply": "2023-10-27T12:19:46.116425Z",
     "shell.execute_reply.started": "2023-10-27T12:19:46.090278Z"
    }
   },
   "outputs": [
    {
     "name": "stdout",
     "output_type": "stream",
     "text": [
      "Label:  Anecdotes\n",
      "Accuracy:  0.82\n",
      "F1 Score:  0.0\n",
      "Precision:  0.0\n",
      "Recall:  0.0\n",
      "***************\n",
      "Label:  Miscellaneous\n",
      "Accuracy:  0.72\n",
      "F1 Score:  0.364\n",
      "Precision:  0.727\n",
      "Recall:  0.242\n",
      "***************\n"
     ]
    }
   ],
   "source": [
    "other_labels = ['Anecdotes', 'Miscellaneous']\n",
    "for label in other_labels:\n",
    "    print('Label: ', label)\n",
    "    y_true = df_final[label]\n",
    "    y_pred = df_final[f'predicted_{label}']\n",
    "    print('Accuracy: ', np.round(accuracy_score(y_true, y_pred),3))\n",
    "    print('F1 Score: ', np.round(f1_score(y_true, y_pred),3))\n",
    "    print('Precision: ', np.round(precision_score(y_true, y_pred),3))\n",
    "    print('Recall: ', np.round(recall_score(y_true, y_pred),3))\n",
    "    print('***************')"
   ]
  },
  {
   "cell_type": "code",
   "execution_count": null,
   "id": "35a7ed6c",
   "metadata": {},
   "outputs": [],
   "source": []
  },
  {
   "cell_type": "code",
   "execution_count": null,
   "id": "c687c86a",
   "metadata": {},
   "outputs": [],
   "source": []
  }
 ],
 "metadata": {
  "kernelspec": {
   "display_name": "Python 3.10 (tensorflow)",
   "language": "python",
   "name": "tensorflow"
  },
  "language_info": {
   "codemirror_mode": {
    "name": "ipython",
    "version": 3
   },
   "file_extension": ".py",
   "mimetype": "text/x-python",
   "name": "python",
   "nbconvert_exporter": "python",
   "pygments_lexer": "ipython3",
   "version": "3.10.9"
  }
 },
 "nbformat": 4,
 "nbformat_minor": 5
}
